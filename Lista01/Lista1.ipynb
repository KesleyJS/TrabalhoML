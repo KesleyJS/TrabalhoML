{
  "cells": [
    {
      "cell_type": "markdown",
      "metadata": {
        "id": "e9yTIwo6WDBU"
      },
      "source": [
        "# Lista 1\n",
        "-------------\n",
        "\n",
        "\n",
        "**Objetivo**: Treinar modelos de classificação utilizando Regressão Logística e Árvore de Decisão.\n",
        "\n",
        "\n",
        "**Banco de Dados**: Detecção de Doenças no Fígado\n",
        "\n",
        "\n",
        "[Link para o banco](https://drive.google.com/file/d/1jnLwuv4e_ZeCqluMXs3Mar2TGetumtVv/view?usp=drive_link)\n",
        "\n",
        "\n",
        "Descrição do banco:\n",
        "> Este banco de dados contém registros de 416 pacientes diagnosticados com doença no fígado e 167 pacientes sem a doença. Esta informação está na coluna `Selector`.\n",
        ">\n",
        "> O banco de dados possui 10 variáveis:\n",
        ">\n",
        "> * `age`: idade\n",
        "> * `Gender`: gênero do paciente\n",
        "> * `TB`: Bilirrubina total\n",
        "> * `DB`: Bilirrubina direta\n",
        "> * `Alkphos`: fosfatase alcalina.\n",
        "> * `Sgpt`: transaminase glutâmico-pirúvica sérica (TGP)\n",
        "> * `Sgot`: transaminase glutâmico-oxalacética sérica (TGO)\n",
        "> * `TP`: Proteína total\n",
        "> * `ALB`: Albumina\n",
        "> * `A/G Ratio`: Relação Albumina:Globulina\n",
        "\n",
        "\n",
        "Exercício:\n",
        "\n",
        "\n",
        "1. Carregue o banco de dados e analise suas features (calcule as descritivas).  \n",
        "* Transforme a feature sexo em uma variavel dummy.\n",
        "2. Separe o banco dados:\n",
        "* Utilize 80% dos dados para treino e 20% para teste.\n",
        "3. Treine um modelo de Regressão Logística.\n",
        "* Interprete dois coeficientes.\n",
        "4. Treine um modelo de árvore de decisão.\n",
        "* Utilize max_depth de 4.\n",
        "* Identifique as duas features mais importantes.\n",
        "5. Construa um relatório comparativo dos dois modelos:\n",
        "* Utilizando a **precisão da classe de pacientes doentes**, qual modelo tem melhor desempenho na detecção de doença no fígado?\n",
        "* Utilizando o **f1-score da classe de pacientes doentes**, qual modelo tem melhor desempenho na detecção de doença no fígado?\n",
        "\n",
        "\n",
        "Obs.: Utilize o **mesmo** conjunto de treino e teste para construir e avaliar ambos os modelos."
      ]
    },
    {
      "cell_type": "markdown",
      "metadata": {
        "id": "407ENJcYYaQN"
      },
      "source": [
        "## 1. Carga do banco\n",
        "--------------------"
      ]
    },
    {
      "cell_type": "code",
      "execution_count": 12,
      "metadata": {
        "id": "4zQuqod4V-Wp",
        "colab": {
          "base_uri": "https://localhost:8080/",
          "height": 73
        },
        "outputId": "2ba9f23f-9e8d-4826-a35f-07b520903b5d"
      },
      "outputs": [
        {
          "output_type": "display_data",
          "data": {
            "text/plain": [
              "<IPython.core.display.HTML object>"
            ],
            "text/html": [
              "\n",
              "     <input type=\"file\" id=\"files-03bc531f-01d0-4382-b87a-ede66b70c24c\" name=\"files[]\" multiple disabled\n",
              "        style=\"border:none\" />\n",
              "     <output id=\"result-03bc531f-01d0-4382-b87a-ede66b70c24c\">\n",
              "      Upload widget is only available when the cell has been executed in the\n",
              "      current browser session. Please rerun this cell to enable.\n",
              "      </output>\n",
              "      <script>// Copyright 2017 Google LLC\n",
              "//\n",
              "// Licensed under the Apache License, Version 2.0 (the \"License\");\n",
              "// you may not use this file except in compliance with the License.\n",
              "// You may obtain a copy of the License at\n",
              "//\n",
              "//      http://www.apache.org/licenses/LICENSE-2.0\n",
              "//\n",
              "// Unless required by applicable law or agreed to in writing, software\n",
              "// distributed under the License is distributed on an \"AS IS\" BASIS,\n",
              "// WITHOUT WARRANTIES OR CONDITIONS OF ANY KIND, either express or implied.\n",
              "// See the License for the specific language governing permissions and\n",
              "// limitations under the License.\n",
              "\n",
              "/**\n",
              " * @fileoverview Helpers for google.colab Python module.\n",
              " */\n",
              "(function(scope) {\n",
              "function span(text, styleAttributes = {}) {\n",
              "  const element = document.createElement('span');\n",
              "  element.textContent = text;\n",
              "  for (const key of Object.keys(styleAttributes)) {\n",
              "    element.style[key] = styleAttributes[key];\n",
              "  }\n",
              "  return element;\n",
              "}\n",
              "\n",
              "// Max number of bytes which will be uploaded at a time.\n",
              "const MAX_PAYLOAD_SIZE = 100 * 1024;\n",
              "\n",
              "function _uploadFiles(inputId, outputId) {\n",
              "  const steps = uploadFilesStep(inputId, outputId);\n",
              "  const outputElement = document.getElementById(outputId);\n",
              "  // Cache steps on the outputElement to make it available for the next call\n",
              "  // to uploadFilesContinue from Python.\n",
              "  outputElement.steps = steps;\n",
              "\n",
              "  return _uploadFilesContinue(outputId);\n",
              "}\n",
              "\n",
              "// This is roughly an async generator (not supported in the browser yet),\n",
              "// where there are multiple asynchronous steps and the Python side is going\n",
              "// to poll for completion of each step.\n",
              "// This uses a Promise to block the python side on completion of each step,\n",
              "// then passes the result of the previous step as the input to the next step.\n",
              "function _uploadFilesContinue(outputId) {\n",
              "  const outputElement = document.getElementById(outputId);\n",
              "  const steps = outputElement.steps;\n",
              "\n",
              "  const next = steps.next(outputElement.lastPromiseValue);\n",
              "  return Promise.resolve(next.value.promise).then((value) => {\n",
              "    // Cache the last promise value to make it available to the next\n",
              "    // step of the generator.\n",
              "    outputElement.lastPromiseValue = value;\n",
              "    return next.value.response;\n",
              "  });\n",
              "}\n",
              "\n",
              "/**\n",
              " * Generator function which is called between each async step of the upload\n",
              " * process.\n",
              " * @param {string} inputId Element ID of the input file picker element.\n",
              " * @param {string} outputId Element ID of the output display.\n",
              " * @return {!Iterable<!Object>} Iterable of next steps.\n",
              " */\n",
              "function* uploadFilesStep(inputId, outputId) {\n",
              "  const inputElement = document.getElementById(inputId);\n",
              "  inputElement.disabled = false;\n",
              "\n",
              "  const outputElement = document.getElementById(outputId);\n",
              "  outputElement.innerHTML = '';\n",
              "\n",
              "  const pickedPromise = new Promise((resolve) => {\n",
              "    inputElement.addEventListener('change', (e) => {\n",
              "      resolve(e.target.files);\n",
              "    });\n",
              "  });\n",
              "\n",
              "  const cancel = document.createElement('button');\n",
              "  inputElement.parentElement.appendChild(cancel);\n",
              "  cancel.textContent = 'Cancel upload';\n",
              "  const cancelPromise = new Promise((resolve) => {\n",
              "    cancel.onclick = () => {\n",
              "      resolve(null);\n",
              "    };\n",
              "  });\n",
              "\n",
              "  // Wait for the user to pick the files.\n",
              "  const files = yield {\n",
              "    promise: Promise.race([pickedPromise, cancelPromise]),\n",
              "    response: {\n",
              "      action: 'starting',\n",
              "    }\n",
              "  };\n",
              "\n",
              "  cancel.remove();\n",
              "\n",
              "  // Disable the input element since further picks are not allowed.\n",
              "  inputElement.disabled = true;\n",
              "\n",
              "  if (!files) {\n",
              "    return {\n",
              "      response: {\n",
              "        action: 'complete',\n",
              "      }\n",
              "    };\n",
              "  }\n",
              "\n",
              "  for (const file of files) {\n",
              "    const li = document.createElement('li');\n",
              "    li.append(span(file.name, {fontWeight: 'bold'}));\n",
              "    li.append(span(\n",
              "        `(${file.type || 'n/a'}) - ${file.size} bytes, ` +\n",
              "        `last modified: ${\n",
              "            file.lastModifiedDate ? file.lastModifiedDate.toLocaleDateString() :\n",
              "                                    'n/a'} - `));\n",
              "    const percent = span('0% done');\n",
              "    li.appendChild(percent);\n",
              "\n",
              "    outputElement.appendChild(li);\n",
              "\n",
              "    const fileDataPromise = new Promise((resolve) => {\n",
              "      const reader = new FileReader();\n",
              "      reader.onload = (e) => {\n",
              "        resolve(e.target.result);\n",
              "      };\n",
              "      reader.readAsArrayBuffer(file);\n",
              "    });\n",
              "    // Wait for the data to be ready.\n",
              "    let fileData = yield {\n",
              "      promise: fileDataPromise,\n",
              "      response: {\n",
              "        action: 'continue',\n",
              "      }\n",
              "    };\n",
              "\n",
              "    // Use a chunked sending to avoid message size limits. See b/62115660.\n",
              "    let position = 0;\n",
              "    do {\n",
              "      const length = Math.min(fileData.byteLength - position, MAX_PAYLOAD_SIZE);\n",
              "      const chunk = new Uint8Array(fileData, position, length);\n",
              "      position += length;\n",
              "\n",
              "      const base64 = btoa(String.fromCharCode.apply(null, chunk));\n",
              "      yield {\n",
              "        response: {\n",
              "          action: 'append',\n",
              "          file: file.name,\n",
              "          data: base64,\n",
              "        },\n",
              "      };\n",
              "\n",
              "      let percentDone = fileData.byteLength === 0 ?\n",
              "          100 :\n",
              "          Math.round((position / fileData.byteLength) * 100);\n",
              "      percent.textContent = `${percentDone}% done`;\n",
              "\n",
              "    } while (position < fileData.byteLength);\n",
              "  }\n",
              "\n",
              "  // All done.\n",
              "  yield {\n",
              "    response: {\n",
              "      action: 'complete',\n",
              "    }\n",
              "  };\n",
              "}\n",
              "\n",
              "scope.google = scope.google || {};\n",
              "scope.google.colab = scope.google.colab || {};\n",
              "scope.google.colab._files = {\n",
              "  _uploadFiles,\n",
              "  _uploadFilesContinue,\n",
              "};\n",
              "})(self);\n",
              "</script> "
            ]
          },
          "metadata": {}
        },
        {
          "output_type": "stream",
          "name": "stdout",
          "text": [
            "Saving Indian Liver Patient Dataset (ILPD).csv to Indian Liver Patient Dataset (ILPD) (1).csv\n"
          ]
        }
      ],
      "source": [
        "import pandas as pd\n",
        "from sklearn.model_selection import train_test_split\n",
        "from sklearn.linear_model import LogisticRegression\n",
        "from sklearn.tree import DecisionTreeClassifier\n",
        "from sklearn.metrics import classification_report\n",
        "from sklearn.impute import SimpleImputer\n",
        "import plotly.express as px\n",
        "from sklearn.metrics import roc_curve, RocCurveDisplay\n",
        "from sklearn.metrics import roc_auc_score\n",
        "from sklearn.metrics import confusion_matrix\n",
        "\n",
        "\n",
        "from google.colab import files\n",
        "uploaded = files.upload()\n",
        "\n",
        "path = 'Indian Liver Patient Dataset (ILPD) (1).csv'\n",
        "df = pd.read_csv(path)"
      ]
    },
    {
      "cell_type": "markdown",
      "metadata": {
        "id": "y4nMbhv993f5"
      },
      "source": [
        "\n",
        "### 1.1 - Exibir as primeiras linhas do DataFrame"
      ]
    },
    {
      "cell_type": "code",
      "execution_count": 13,
      "metadata": {
        "colab": {
          "base_uri": "https://localhost:8080/"
        },
        "id": "83Do1uUu93f6",
        "outputId": "d67b0fdf-e368-4b4f-fccb-fe3125b0a5b7"
      },
      "outputs": [
        {
          "output_type": "stream",
          "name": "stdout",
          "text": [
            "   Age  Gender    TB   DB  Alkphos  Sgpt  Sgot   TP  ALB  A/G Ratio  Selector\n",
            "0   65  Female   0.7  0.1      187    16    18  6.8  3.3       0.90         1\n",
            "1   62    Male  10.9  5.5      699    64   100  7.5  3.2       0.74         1\n",
            "2   62    Male   7.3  4.1      490    60    68  7.0  3.3       0.89         1\n",
            "3   58    Male   1.0  0.4      182    14    20  6.8  3.4       1.00         1\n",
            "4   72    Male   3.9  2.0      195    27    59  7.3  2.4       0.40         1\n"
          ]
        }
      ],
      "source": [
        "print(df.head())"
      ]
    },
    {
      "cell_type": "markdown",
      "metadata": {
        "id": "x8_rduzw93f7"
      },
      "source": [
        "### 1.2 - Analisar as features descritivas"
      ]
    },
    {
      "cell_type": "code",
      "execution_count": 14,
      "metadata": {
        "colab": {
          "base_uri": "https://localhost:8080/"
        },
        "id": "-fgs_os093f7",
        "outputId": "9d89549d-9d86-4fe8-985c-0a1b9e3b7421"
      },
      "outputs": [
        {
          "output_type": "stream",
          "name": "stdout",
          "text": [
            "              Age          TB          DB      Alkphos         Sgpt  \\\n",
            "count  583.000000  583.000000  583.000000   583.000000   583.000000   \n",
            "mean    44.746141    3.298799    1.486106   290.576329    80.713551   \n",
            "std     16.189833    6.209522    2.808498   242.937989   182.620356   \n",
            "min      4.000000    0.400000    0.100000    63.000000    10.000000   \n",
            "25%     33.000000    0.800000    0.200000   175.500000    23.000000   \n",
            "50%     45.000000    1.000000    0.300000   208.000000    35.000000   \n",
            "75%     58.000000    2.600000    1.300000   298.000000    60.500000   \n",
            "max     90.000000   75.000000   19.700000  2110.000000  2000.000000   \n",
            "\n",
            "              Sgot          TP         ALB   A/G Ratio    Selector  \n",
            "count   583.000000  583.000000  583.000000  579.000000  583.000000  \n",
            "mean    109.910806    6.483190    3.141852    0.947064    1.286449  \n",
            "std     288.918529    1.085451    0.795519    0.319592    0.452490  \n",
            "min      10.000000    2.700000    0.900000    0.300000    1.000000  \n",
            "25%      25.000000    5.800000    2.600000    0.700000    1.000000  \n",
            "50%      42.000000    6.600000    3.100000    0.930000    1.000000  \n",
            "75%      87.000000    7.200000    3.800000    1.100000    2.000000  \n",
            "max    4929.000000    9.600000    5.500000    2.800000    2.000000  \n"
          ]
        }
      ],
      "source": [
        "print(df.describe())"
      ]
    },
    {
      "cell_type": "markdown",
      "metadata": {
        "id": "zuuRXceb93f8"
      },
      "source": [
        "### 1.3 - Transformar a coluna Gender em dummy"
      ]
    },
    {
      "cell_type": "code",
      "execution_count": 15,
      "metadata": {
        "id": "JJyRs9ov93f8"
      },
      "outputs": [],
      "source": [
        "df['Gender'] = pd.get_dummies(df['Gender'], drop_first=True)  # Female=1, Male=0"
      ]
    },
    {
      "cell_type": "code",
      "source": [
        "df.head()"
      ],
      "metadata": {
        "colab": {
          "base_uri": "https://localhost:8080/",
          "height": 206
        },
        "id": "nXSuRvdx_oXI",
        "outputId": "603a88f1-fa4a-46c9-97ba-22d86df89f5a"
      },
      "execution_count": 24,
      "outputs": [
        {
          "output_type": "execute_result",
          "data": {
            "text/plain": [
              "   Age  Gender    TB   DB  Alkphos  Sgpt  Sgot   TP  ALB  A/G Ratio  Selector\n",
              "0   65   False   0.7  0.1      187    16    18  6.8  3.3       0.90         1\n",
              "1   62    True  10.9  5.5      699    64   100  7.5  3.2       0.74         1\n",
              "2   62    True   7.3  4.1      490    60    68  7.0  3.3       0.89         1\n",
              "3   58    True   1.0  0.4      182    14    20  6.8  3.4       1.00         1\n",
              "4   72    True   3.9  2.0      195    27    59  7.3  2.4       0.40         1"
            ],
            "text/html": [
              "\n",
              "  <div id=\"df-3c1ab106-5917-459c-88bb-2485aa52b6c7\" class=\"colab-df-container\">\n",
              "    <div>\n",
              "<style scoped>\n",
              "    .dataframe tbody tr th:only-of-type {\n",
              "        vertical-align: middle;\n",
              "    }\n",
              "\n",
              "    .dataframe tbody tr th {\n",
              "        vertical-align: top;\n",
              "    }\n",
              "\n",
              "    .dataframe thead th {\n",
              "        text-align: right;\n",
              "    }\n",
              "</style>\n",
              "<table border=\"1\" class=\"dataframe\">\n",
              "  <thead>\n",
              "    <tr style=\"text-align: right;\">\n",
              "      <th></th>\n",
              "      <th>Age</th>\n",
              "      <th>Gender</th>\n",
              "      <th>TB</th>\n",
              "      <th>DB</th>\n",
              "      <th>Alkphos</th>\n",
              "      <th>Sgpt</th>\n",
              "      <th>Sgot</th>\n",
              "      <th>TP</th>\n",
              "      <th>ALB</th>\n",
              "      <th>A/G Ratio</th>\n",
              "      <th>Selector</th>\n",
              "    </tr>\n",
              "  </thead>\n",
              "  <tbody>\n",
              "    <tr>\n",
              "      <th>0</th>\n",
              "      <td>65</td>\n",
              "      <td>False</td>\n",
              "      <td>0.7</td>\n",
              "      <td>0.1</td>\n",
              "      <td>187</td>\n",
              "      <td>16</td>\n",
              "      <td>18</td>\n",
              "      <td>6.8</td>\n",
              "      <td>3.3</td>\n",
              "      <td>0.90</td>\n",
              "      <td>1</td>\n",
              "    </tr>\n",
              "    <tr>\n",
              "      <th>1</th>\n",
              "      <td>62</td>\n",
              "      <td>True</td>\n",
              "      <td>10.9</td>\n",
              "      <td>5.5</td>\n",
              "      <td>699</td>\n",
              "      <td>64</td>\n",
              "      <td>100</td>\n",
              "      <td>7.5</td>\n",
              "      <td>3.2</td>\n",
              "      <td>0.74</td>\n",
              "      <td>1</td>\n",
              "    </tr>\n",
              "    <tr>\n",
              "      <th>2</th>\n",
              "      <td>62</td>\n",
              "      <td>True</td>\n",
              "      <td>7.3</td>\n",
              "      <td>4.1</td>\n",
              "      <td>490</td>\n",
              "      <td>60</td>\n",
              "      <td>68</td>\n",
              "      <td>7.0</td>\n",
              "      <td>3.3</td>\n",
              "      <td>0.89</td>\n",
              "      <td>1</td>\n",
              "    </tr>\n",
              "    <tr>\n",
              "      <th>3</th>\n",
              "      <td>58</td>\n",
              "      <td>True</td>\n",
              "      <td>1.0</td>\n",
              "      <td>0.4</td>\n",
              "      <td>182</td>\n",
              "      <td>14</td>\n",
              "      <td>20</td>\n",
              "      <td>6.8</td>\n",
              "      <td>3.4</td>\n",
              "      <td>1.00</td>\n",
              "      <td>1</td>\n",
              "    </tr>\n",
              "    <tr>\n",
              "      <th>4</th>\n",
              "      <td>72</td>\n",
              "      <td>True</td>\n",
              "      <td>3.9</td>\n",
              "      <td>2.0</td>\n",
              "      <td>195</td>\n",
              "      <td>27</td>\n",
              "      <td>59</td>\n",
              "      <td>7.3</td>\n",
              "      <td>2.4</td>\n",
              "      <td>0.40</td>\n",
              "      <td>1</td>\n",
              "    </tr>\n",
              "  </tbody>\n",
              "</table>\n",
              "</div>\n",
              "    <div class=\"colab-df-buttons\">\n",
              "\n",
              "  <div class=\"colab-df-container\">\n",
              "    <button class=\"colab-df-convert\" onclick=\"convertToInteractive('df-3c1ab106-5917-459c-88bb-2485aa52b6c7')\"\n",
              "            title=\"Convert this dataframe to an interactive table.\"\n",
              "            style=\"display:none;\">\n",
              "\n",
              "  <svg xmlns=\"http://www.w3.org/2000/svg\" height=\"24px\" viewBox=\"0 -960 960 960\">\n",
              "    <path d=\"M120-120v-720h720v720H120Zm60-500h600v-160H180v160Zm220 220h160v-160H400v160Zm0 220h160v-160H400v160ZM180-400h160v-160H180v160Zm440 0h160v-160H620v160ZM180-180h160v-160H180v160Zm440 0h160v-160H620v160Z\"/>\n",
              "  </svg>\n",
              "    </button>\n",
              "\n",
              "  <style>\n",
              "    .colab-df-container {\n",
              "      display:flex;\n",
              "      gap: 12px;\n",
              "    }\n",
              "\n",
              "    .colab-df-convert {\n",
              "      background-color: #E8F0FE;\n",
              "      border: none;\n",
              "      border-radius: 50%;\n",
              "      cursor: pointer;\n",
              "      display: none;\n",
              "      fill: #1967D2;\n",
              "      height: 32px;\n",
              "      padding: 0 0 0 0;\n",
              "      width: 32px;\n",
              "    }\n",
              "\n",
              "    .colab-df-convert:hover {\n",
              "      background-color: #E2EBFA;\n",
              "      box-shadow: 0px 1px 2px rgba(60, 64, 67, 0.3), 0px 1px 3px 1px rgba(60, 64, 67, 0.15);\n",
              "      fill: #174EA6;\n",
              "    }\n",
              "\n",
              "    .colab-df-buttons div {\n",
              "      margin-bottom: 4px;\n",
              "    }\n",
              "\n",
              "    [theme=dark] .colab-df-convert {\n",
              "      background-color: #3B4455;\n",
              "      fill: #D2E3FC;\n",
              "    }\n",
              "\n",
              "    [theme=dark] .colab-df-convert:hover {\n",
              "      background-color: #434B5C;\n",
              "      box-shadow: 0px 1px 3px 1px rgba(0, 0, 0, 0.15);\n",
              "      filter: drop-shadow(0px 1px 2px rgba(0, 0, 0, 0.3));\n",
              "      fill: #FFFFFF;\n",
              "    }\n",
              "  </style>\n",
              "\n",
              "    <script>\n",
              "      const buttonEl =\n",
              "        document.querySelector('#df-3c1ab106-5917-459c-88bb-2485aa52b6c7 button.colab-df-convert');\n",
              "      buttonEl.style.display =\n",
              "        google.colab.kernel.accessAllowed ? 'block' : 'none';\n",
              "\n",
              "      async function convertToInteractive(key) {\n",
              "        const element = document.querySelector('#df-3c1ab106-5917-459c-88bb-2485aa52b6c7');\n",
              "        const dataTable =\n",
              "          await google.colab.kernel.invokeFunction('convertToInteractive',\n",
              "                                                    [key], {});\n",
              "        if (!dataTable) return;\n",
              "\n",
              "        const docLinkHtml = 'Like what you see? Visit the ' +\n",
              "          '<a target=\"_blank\" href=https://colab.research.google.com/notebooks/data_table.ipynb>data table notebook</a>'\n",
              "          + ' to learn more about interactive tables.';\n",
              "        element.innerHTML = '';\n",
              "        dataTable['output_type'] = 'display_data';\n",
              "        await google.colab.output.renderOutput(dataTable, element);\n",
              "        const docLink = document.createElement('div');\n",
              "        docLink.innerHTML = docLinkHtml;\n",
              "        element.appendChild(docLink);\n",
              "      }\n",
              "    </script>\n",
              "  </div>\n",
              "\n",
              "\n",
              "<div id=\"df-873e220c-70be-4316-801c-50427c04bcc9\">\n",
              "  <button class=\"colab-df-quickchart\" onclick=\"quickchart('df-873e220c-70be-4316-801c-50427c04bcc9')\"\n",
              "            title=\"Suggest charts\"\n",
              "            style=\"display:none;\">\n",
              "\n",
              "<svg xmlns=\"http://www.w3.org/2000/svg\" height=\"24px\"viewBox=\"0 0 24 24\"\n",
              "     width=\"24px\">\n",
              "    <g>\n",
              "        <path d=\"M19 3H5c-1.1 0-2 .9-2 2v14c0 1.1.9 2 2 2h14c1.1 0 2-.9 2-2V5c0-1.1-.9-2-2-2zM9 17H7v-7h2v7zm4 0h-2V7h2v10zm4 0h-2v-4h2v4z\"/>\n",
              "    </g>\n",
              "</svg>\n",
              "  </button>\n",
              "\n",
              "<style>\n",
              "  .colab-df-quickchart {\n",
              "      --bg-color: #E8F0FE;\n",
              "      --fill-color: #1967D2;\n",
              "      --hover-bg-color: #E2EBFA;\n",
              "      --hover-fill-color: #174EA6;\n",
              "      --disabled-fill-color: #AAA;\n",
              "      --disabled-bg-color: #DDD;\n",
              "  }\n",
              "\n",
              "  [theme=dark] .colab-df-quickchart {\n",
              "      --bg-color: #3B4455;\n",
              "      --fill-color: #D2E3FC;\n",
              "      --hover-bg-color: #434B5C;\n",
              "      --hover-fill-color: #FFFFFF;\n",
              "      --disabled-bg-color: #3B4455;\n",
              "      --disabled-fill-color: #666;\n",
              "  }\n",
              "\n",
              "  .colab-df-quickchart {\n",
              "    background-color: var(--bg-color);\n",
              "    border: none;\n",
              "    border-radius: 50%;\n",
              "    cursor: pointer;\n",
              "    display: none;\n",
              "    fill: var(--fill-color);\n",
              "    height: 32px;\n",
              "    padding: 0;\n",
              "    width: 32px;\n",
              "  }\n",
              "\n",
              "  .colab-df-quickchart:hover {\n",
              "    background-color: var(--hover-bg-color);\n",
              "    box-shadow: 0 1px 2px rgba(60, 64, 67, 0.3), 0 1px 3px 1px rgba(60, 64, 67, 0.15);\n",
              "    fill: var(--button-hover-fill-color);\n",
              "  }\n",
              "\n",
              "  .colab-df-quickchart-complete:disabled,\n",
              "  .colab-df-quickchart-complete:disabled:hover {\n",
              "    background-color: var(--disabled-bg-color);\n",
              "    fill: var(--disabled-fill-color);\n",
              "    box-shadow: none;\n",
              "  }\n",
              "\n",
              "  .colab-df-spinner {\n",
              "    border: 2px solid var(--fill-color);\n",
              "    border-color: transparent;\n",
              "    border-bottom-color: var(--fill-color);\n",
              "    animation:\n",
              "      spin 1s steps(1) infinite;\n",
              "  }\n",
              "\n",
              "  @keyframes spin {\n",
              "    0% {\n",
              "      border-color: transparent;\n",
              "      border-bottom-color: var(--fill-color);\n",
              "      border-left-color: var(--fill-color);\n",
              "    }\n",
              "    20% {\n",
              "      border-color: transparent;\n",
              "      border-left-color: var(--fill-color);\n",
              "      border-top-color: var(--fill-color);\n",
              "    }\n",
              "    30% {\n",
              "      border-color: transparent;\n",
              "      border-left-color: var(--fill-color);\n",
              "      border-top-color: var(--fill-color);\n",
              "      border-right-color: var(--fill-color);\n",
              "    }\n",
              "    40% {\n",
              "      border-color: transparent;\n",
              "      border-right-color: var(--fill-color);\n",
              "      border-top-color: var(--fill-color);\n",
              "    }\n",
              "    60% {\n",
              "      border-color: transparent;\n",
              "      border-right-color: var(--fill-color);\n",
              "    }\n",
              "    80% {\n",
              "      border-color: transparent;\n",
              "      border-right-color: var(--fill-color);\n",
              "      border-bottom-color: var(--fill-color);\n",
              "    }\n",
              "    90% {\n",
              "      border-color: transparent;\n",
              "      border-bottom-color: var(--fill-color);\n",
              "    }\n",
              "  }\n",
              "</style>\n",
              "\n",
              "  <script>\n",
              "    async function quickchart(key) {\n",
              "      const quickchartButtonEl =\n",
              "        document.querySelector('#' + key + ' button');\n",
              "      quickchartButtonEl.disabled = true;  // To prevent multiple clicks.\n",
              "      quickchartButtonEl.classList.add('colab-df-spinner');\n",
              "      try {\n",
              "        const charts = await google.colab.kernel.invokeFunction(\n",
              "            'suggestCharts', [key], {});\n",
              "      } catch (error) {\n",
              "        console.error('Error during call to suggestCharts:', error);\n",
              "      }\n",
              "      quickchartButtonEl.classList.remove('colab-df-spinner');\n",
              "      quickchartButtonEl.classList.add('colab-df-quickchart-complete');\n",
              "    }\n",
              "    (() => {\n",
              "      let quickchartButtonEl =\n",
              "        document.querySelector('#df-873e220c-70be-4316-801c-50427c04bcc9 button');\n",
              "      quickchartButtonEl.style.display =\n",
              "        google.colab.kernel.accessAllowed ? 'block' : 'none';\n",
              "    })();\n",
              "  </script>\n",
              "</div>\n",
              "\n",
              "    </div>\n",
              "  </div>\n"
            ],
            "application/vnd.google.colaboratory.intrinsic+json": {
              "type": "dataframe",
              "variable_name": "df",
              "summary": "{\n  \"name\": \"df\",\n  \"rows\": 583,\n  \"fields\": [\n    {\n      \"column\": \"Age\",\n      \"properties\": {\n        \"dtype\": \"number\",\n        \"std\": 16,\n        \"min\": 4,\n        \"max\": 90,\n        \"num_unique_values\": 72,\n        \"samples\": [\n          46,\n          23,\n          63\n        ],\n        \"semantic_type\": \"\",\n        \"description\": \"\"\n      }\n    },\n    {\n      \"column\": \"Gender\",\n      \"properties\": {\n        \"dtype\": \"boolean\",\n        \"num_unique_values\": 2,\n        \"samples\": [\n          true,\n          false\n        ],\n        \"semantic_type\": \"\",\n        \"description\": \"\"\n      }\n    },\n    {\n      \"column\": \"TB\",\n      \"properties\": {\n        \"dtype\": \"number\",\n        \"std\": 6.209521726180145,\n        \"min\": 0.4,\n        \"max\": 75.0,\n        \"num_unique_values\": 113,\n        \"samples\": [\n          4.9,\n          3.9\n        ],\n        \"semantic_type\": \"\",\n        \"description\": \"\"\n      }\n    },\n    {\n      \"column\": \"DB\",\n      \"properties\": {\n        \"dtype\": \"number\",\n        \"std\": 2.8084976176589636,\n        \"min\": 0.1,\n        \"max\": 19.7,\n        \"num_unique_values\": 80,\n        \"samples\": [\n          6.2,\n          0.1\n        ],\n        \"semantic_type\": \"\",\n        \"description\": \"\"\n      }\n    },\n    {\n      \"column\": \"Alkphos\",\n      \"properties\": {\n        \"dtype\": \"number\",\n        \"std\": 242,\n        \"min\": 63,\n        \"max\": 2110,\n        \"num_unique_values\": 263,\n        \"samples\": [\n          386,\n          209\n        ],\n        \"semantic_type\": \"\",\n        \"description\": \"\"\n      }\n    },\n    {\n      \"column\": \"Sgpt\",\n      \"properties\": {\n        \"dtype\": \"number\",\n        \"std\": 182,\n        \"min\": 10,\n        \"max\": 2000,\n        \"num_unique_values\": 152,\n        \"samples\": [\n          2000,\n          321\n        ],\n        \"semantic_type\": \"\",\n        \"description\": \"\"\n      }\n    },\n    {\n      \"column\": \"Sgot\",\n      \"properties\": {\n        \"dtype\": \"number\",\n        \"std\": 288,\n        \"min\": 10,\n        \"max\": 4929,\n        \"num_unique_values\": 177,\n        \"samples\": [\n          66,\n          16\n        ],\n        \"semantic_type\": \"\",\n        \"description\": \"\"\n      }\n    },\n    {\n      \"column\": \"TP\",\n      \"properties\": {\n        \"dtype\": \"number\",\n        \"std\": 1.0854514840234664,\n        \"min\": 2.7,\n        \"max\": 9.6,\n        \"num_unique_values\": 58,\n        \"samples\": [\n          6.8,\n          6.7\n        ],\n        \"semantic_type\": \"\",\n        \"description\": \"\"\n      }\n    },\n    {\n      \"column\": \"ALB\",\n      \"properties\": {\n        \"dtype\": \"number\",\n        \"std\": 0.795518805964027,\n        \"min\": 0.9,\n        \"max\": 5.5,\n        \"num_unique_values\": 40,\n        \"samples\": [\n          2.0,\n          1.9\n        ],\n        \"semantic_type\": \"\",\n        \"description\": \"\"\n      }\n    },\n    {\n      \"column\": \"A/G Ratio\",\n      \"properties\": {\n        \"dtype\": \"number\",\n        \"std\": 0.3184919594586745,\n        \"min\": 0.3,\n        \"max\": 2.8,\n        \"num_unique_values\": 70,\n        \"samples\": [\n          1.6,\n          0.9\n        ],\n        \"semantic_type\": \"\",\n        \"description\": \"\"\n      }\n    },\n    {\n      \"column\": \"Selector\",\n      \"properties\": {\n        \"dtype\": \"number\",\n        \"std\": 0,\n        \"min\": 1,\n        \"max\": 2,\n        \"num_unique_values\": 2,\n        \"samples\": [\n          2,\n          1\n        ],\n        \"semantic_type\": \"\",\n        \"description\": \"\"\n      }\n    }\n  ]\n}"
            }
          },
          "metadata": {},
          "execution_count": 24
        }
      ]
    },
    {
      "cell_type": "markdown",
      "metadata": {
        "id": "51P-HNtt93f8"
      },
      "source": [
        "### 1.4 - Exibir as mudanças no DataFrame"
      ]
    },
    {
      "cell_type": "code",
      "execution_count": 16,
      "metadata": {
        "colab": {
          "base_uri": "https://localhost:8080/"
        },
        "id": "fgCow2A093f9",
        "outputId": "f4efbd13-3ad2-446f-903c-7e618d4de314"
      },
      "outputs": [
        {
          "output_type": "stream",
          "name": "stdout",
          "text": [
            "   Age  Gender    TB   DB  Alkphos  Sgpt  Sgot   TP  ALB  A/G Ratio  Selector\n",
            "0   65   False   0.7  0.1      187    16    18  6.8  3.3       0.90         1\n",
            "1   62    True  10.9  5.5      699    64   100  7.5  3.2       0.74         1\n",
            "2   62    True   7.3  4.1      490    60    68  7.0  3.3       0.89         1\n",
            "3   58    True   1.0  0.4      182    14    20  6.8  3.4       1.00         1\n",
            "4   72    True   3.9  2.0      195    27    59  7.3  2.4       0.40         1\n"
          ]
        }
      ],
      "source": [
        "print(df.head())"
      ]
    },
    {
      "cell_type": "markdown",
      "metadata": {
        "id": "Hu7nR2M793f9"
      },
      "source": [
        "### 1.5 - Verificando dados faltantes"
      ]
    },
    {
      "cell_type": "code",
      "execution_count": 17,
      "metadata": {
        "colab": {
          "base_uri": "https://localhost:8080/",
          "height": 429
        },
        "id": "0CVgWD3Q93f9",
        "outputId": "3b8900b9-f75b-45c0-f5a1-f275dc3cd898"
      },
      "outputs": [
        {
          "output_type": "execute_result",
          "data": {
            "text/plain": [
              "Age          0\n",
              "Gender       0\n",
              "TB           0\n",
              "DB           0\n",
              "Alkphos      0\n",
              "Sgpt         0\n",
              "Sgot         0\n",
              "TP           0\n",
              "ALB          0\n",
              "A/G Ratio    4\n",
              "Selector     0\n",
              "dtype: int64"
            ],
            "text/html": [
              "<div>\n",
              "<style scoped>\n",
              "    .dataframe tbody tr th:only-of-type {\n",
              "        vertical-align: middle;\n",
              "    }\n",
              "\n",
              "    .dataframe tbody tr th {\n",
              "        vertical-align: top;\n",
              "    }\n",
              "\n",
              "    .dataframe thead th {\n",
              "        text-align: right;\n",
              "    }\n",
              "</style>\n",
              "<table border=\"1\" class=\"dataframe\">\n",
              "  <thead>\n",
              "    <tr style=\"text-align: right;\">\n",
              "      <th></th>\n",
              "      <th>0</th>\n",
              "    </tr>\n",
              "  </thead>\n",
              "  <tbody>\n",
              "    <tr>\n",
              "      <th>Age</th>\n",
              "      <td>0</td>\n",
              "    </tr>\n",
              "    <tr>\n",
              "      <th>Gender</th>\n",
              "      <td>0</td>\n",
              "    </tr>\n",
              "    <tr>\n",
              "      <th>TB</th>\n",
              "      <td>0</td>\n",
              "    </tr>\n",
              "    <tr>\n",
              "      <th>DB</th>\n",
              "      <td>0</td>\n",
              "    </tr>\n",
              "    <tr>\n",
              "      <th>Alkphos</th>\n",
              "      <td>0</td>\n",
              "    </tr>\n",
              "    <tr>\n",
              "      <th>Sgpt</th>\n",
              "      <td>0</td>\n",
              "    </tr>\n",
              "    <tr>\n",
              "      <th>Sgot</th>\n",
              "      <td>0</td>\n",
              "    </tr>\n",
              "    <tr>\n",
              "      <th>TP</th>\n",
              "      <td>0</td>\n",
              "    </tr>\n",
              "    <tr>\n",
              "      <th>ALB</th>\n",
              "      <td>0</td>\n",
              "    </tr>\n",
              "    <tr>\n",
              "      <th>A/G Ratio</th>\n",
              "      <td>4</td>\n",
              "    </tr>\n",
              "    <tr>\n",
              "      <th>Selector</th>\n",
              "      <td>0</td>\n",
              "    </tr>\n",
              "  </tbody>\n",
              "</table>\n",
              "</div><br><label><b>dtype:</b> int64</label>"
            ]
          },
          "metadata": {},
          "execution_count": 17
        }
      ],
      "source": [
        "df.isna().sum()"
      ]
    },
    {
      "cell_type": "markdown",
      "metadata": {
        "id": "-YBY3yB293f9"
      },
      "source": [
        "### 1.6 - Preenchendo os valores faltantes com a média dos valores"
      ]
    },
    {
      "cell_type": "code",
      "execution_count": 18,
      "metadata": {
        "id": "y1ku4J_v93f9"
      },
      "outputs": [],
      "source": [
        "media = df['A/G Ratio'].mean()\n",
        "df['A/G Ratio'] = df['A/G Ratio'].fillna(media)"
      ]
    },
    {
      "cell_type": "markdown",
      "metadata": {
        "id": "W8_uWgM093f9"
      },
      "source": [
        "### 1.7 - Analisando dados"
      ]
    },
    {
      "cell_type": "code",
      "execution_count": 19,
      "metadata": {
        "colab": {
          "base_uri": "https://localhost:8080/",
          "height": 320
        },
        "id": "orYfIQsI93f-",
        "outputId": "22a85955-147f-463e-9ea1-e05094678a9a"
      },
      "outputs": [
        {
          "output_type": "execute_result",
          "data": {
            "text/plain": [
              "              Age          TB          DB      Alkphos         Sgpt  \\\n",
              "count  583.000000  583.000000  583.000000   583.000000   583.000000   \n",
              "mean    44.746141    3.298799    1.486106   290.576329    80.713551   \n",
              "std     16.189833    6.209522    2.808498   242.937989   182.620356   \n",
              "min      4.000000    0.400000    0.100000    63.000000    10.000000   \n",
              "25%     33.000000    0.800000    0.200000   175.500000    23.000000   \n",
              "50%     45.000000    1.000000    0.300000   208.000000    35.000000   \n",
              "75%     58.000000    2.600000    1.300000   298.000000    60.500000   \n",
              "max     90.000000   75.000000   19.700000  2110.000000  2000.000000   \n",
              "\n",
              "              Sgot          TP         ALB   A/G Ratio  \n",
              "count   583.000000  583.000000  583.000000  583.000000  \n",
              "mean    109.910806    6.483190    3.141852    0.947064  \n",
              "std     288.918529    1.085451    0.795519    0.318492  \n",
              "min      10.000000    2.700000    0.900000    0.300000  \n",
              "25%      25.000000    5.800000    2.600000    0.700000  \n",
              "50%      42.000000    6.600000    3.100000    0.947064  \n",
              "75%      87.000000    7.200000    3.800000    1.100000  \n",
              "max    4929.000000    9.600000    5.500000    2.800000  "
            ],
            "text/html": [
              "\n",
              "  <div id=\"df-c6cc45fb-4acb-4010-93ea-2388884c3c68\" class=\"colab-df-container\">\n",
              "    <div>\n",
              "<style scoped>\n",
              "    .dataframe tbody tr th:only-of-type {\n",
              "        vertical-align: middle;\n",
              "    }\n",
              "\n",
              "    .dataframe tbody tr th {\n",
              "        vertical-align: top;\n",
              "    }\n",
              "\n",
              "    .dataframe thead th {\n",
              "        text-align: right;\n",
              "    }\n",
              "</style>\n",
              "<table border=\"1\" class=\"dataframe\">\n",
              "  <thead>\n",
              "    <tr style=\"text-align: right;\">\n",
              "      <th></th>\n",
              "      <th>Age</th>\n",
              "      <th>TB</th>\n",
              "      <th>DB</th>\n",
              "      <th>Alkphos</th>\n",
              "      <th>Sgpt</th>\n",
              "      <th>Sgot</th>\n",
              "      <th>TP</th>\n",
              "      <th>ALB</th>\n",
              "      <th>A/G Ratio</th>\n",
              "    </tr>\n",
              "  </thead>\n",
              "  <tbody>\n",
              "    <tr>\n",
              "      <th>count</th>\n",
              "      <td>583.000000</td>\n",
              "      <td>583.000000</td>\n",
              "      <td>583.000000</td>\n",
              "      <td>583.000000</td>\n",
              "      <td>583.000000</td>\n",
              "      <td>583.000000</td>\n",
              "      <td>583.000000</td>\n",
              "      <td>583.000000</td>\n",
              "      <td>583.000000</td>\n",
              "    </tr>\n",
              "    <tr>\n",
              "      <th>mean</th>\n",
              "      <td>44.746141</td>\n",
              "      <td>3.298799</td>\n",
              "      <td>1.486106</td>\n",
              "      <td>290.576329</td>\n",
              "      <td>80.713551</td>\n",
              "      <td>109.910806</td>\n",
              "      <td>6.483190</td>\n",
              "      <td>3.141852</td>\n",
              "      <td>0.947064</td>\n",
              "    </tr>\n",
              "    <tr>\n",
              "      <th>std</th>\n",
              "      <td>16.189833</td>\n",
              "      <td>6.209522</td>\n",
              "      <td>2.808498</td>\n",
              "      <td>242.937989</td>\n",
              "      <td>182.620356</td>\n",
              "      <td>288.918529</td>\n",
              "      <td>1.085451</td>\n",
              "      <td>0.795519</td>\n",
              "      <td>0.318492</td>\n",
              "    </tr>\n",
              "    <tr>\n",
              "      <th>min</th>\n",
              "      <td>4.000000</td>\n",
              "      <td>0.400000</td>\n",
              "      <td>0.100000</td>\n",
              "      <td>63.000000</td>\n",
              "      <td>10.000000</td>\n",
              "      <td>10.000000</td>\n",
              "      <td>2.700000</td>\n",
              "      <td>0.900000</td>\n",
              "      <td>0.300000</td>\n",
              "    </tr>\n",
              "    <tr>\n",
              "      <th>25%</th>\n",
              "      <td>33.000000</td>\n",
              "      <td>0.800000</td>\n",
              "      <td>0.200000</td>\n",
              "      <td>175.500000</td>\n",
              "      <td>23.000000</td>\n",
              "      <td>25.000000</td>\n",
              "      <td>5.800000</td>\n",
              "      <td>2.600000</td>\n",
              "      <td>0.700000</td>\n",
              "    </tr>\n",
              "    <tr>\n",
              "      <th>50%</th>\n",
              "      <td>45.000000</td>\n",
              "      <td>1.000000</td>\n",
              "      <td>0.300000</td>\n",
              "      <td>208.000000</td>\n",
              "      <td>35.000000</td>\n",
              "      <td>42.000000</td>\n",
              "      <td>6.600000</td>\n",
              "      <td>3.100000</td>\n",
              "      <td>0.947064</td>\n",
              "    </tr>\n",
              "    <tr>\n",
              "      <th>75%</th>\n",
              "      <td>58.000000</td>\n",
              "      <td>2.600000</td>\n",
              "      <td>1.300000</td>\n",
              "      <td>298.000000</td>\n",
              "      <td>60.500000</td>\n",
              "      <td>87.000000</td>\n",
              "      <td>7.200000</td>\n",
              "      <td>3.800000</td>\n",
              "      <td>1.100000</td>\n",
              "    </tr>\n",
              "    <tr>\n",
              "      <th>max</th>\n",
              "      <td>90.000000</td>\n",
              "      <td>75.000000</td>\n",
              "      <td>19.700000</td>\n",
              "      <td>2110.000000</td>\n",
              "      <td>2000.000000</td>\n",
              "      <td>4929.000000</td>\n",
              "      <td>9.600000</td>\n",
              "      <td>5.500000</td>\n",
              "      <td>2.800000</td>\n",
              "    </tr>\n",
              "  </tbody>\n",
              "</table>\n",
              "</div>\n",
              "    <div class=\"colab-df-buttons\">\n",
              "\n",
              "  <div class=\"colab-df-container\">\n",
              "    <button class=\"colab-df-convert\" onclick=\"convertToInteractive('df-c6cc45fb-4acb-4010-93ea-2388884c3c68')\"\n",
              "            title=\"Convert this dataframe to an interactive table.\"\n",
              "            style=\"display:none;\">\n",
              "\n",
              "  <svg xmlns=\"http://www.w3.org/2000/svg\" height=\"24px\" viewBox=\"0 -960 960 960\">\n",
              "    <path d=\"M120-120v-720h720v720H120Zm60-500h600v-160H180v160Zm220 220h160v-160H400v160Zm0 220h160v-160H400v160ZM180-400h160v-160H180v160Zm440 0h160v-160H620v160ZM180-180h160v-160H180v160Zm440 0h160v-160H620v160Z\"/>\n",
              "  </svg>\n",
              "    </button>\n",
              "\n",
              "  <style>\n",
              "    .colab-df-container {\n",
              "      display:flex;\n",
              "      gap: 12px;\n",
              "    }\n",
              "\n",
              "    .colab-df-convert {\n",
              "      background-color: #E8F0FE;\n",
              "      border: none;\n",
              "      border-radius: 50%;\n",
              "      cursor: pointer;\n",
              "      display: none;\n",
              "      fill: #1967D2;\n",
              "      height: 32px;\n",
              "      padding: 0 0 0 0;\n",
              "      width: 32px;\n",
              "    }\n",
              "\n",
              "    .colab-df-convert:hover {\n",
              "      background-color: #E2EBFA;\n",
              "      box-shadow: 0px 1px 2px rgba(60, 64, 67, 0.3), 0px 1px 3px 1px rgba(60, 64, 67, 0.15);\n",
              "      fill: #174EA6;\n",
              "    }\n",
              "\n",
              "    .colab-df-buttons div {\n",
              "      margin-bottom: 4px;\n",
              "    }\n",
              "\n",
              "    [theme=dark] .colab-df-convert {\n",
              "      background-color: #3B4455;\n",
              "      fill: #D2E3FC;\n",
              "    }\n",
              "\n",
              "    [theme=dark] .colab-df-convert:hover {\n",
              "      background-color: #434B5C;\n",
              "      box-shadow: 0px 1px 3px 1px rgba(0, 0, 0, 0.15);\n",
              "      filter: drop-shadow(0px 1px 2px rgba(0, 0, 0, 0.3));\n",
              "      fill: #FFFFFF;\n",
              "    }\n",
              "  </style>\n",
              "\n",
              "    <script>\n",
              "      const buttonEl =\n",
              "        document.querySelector('#df-c6cc45fb-4acb-4010-93ea-2388884c3c68 button.colab-df-convert');\n",
              "      buttonEl.style.display =\n",
              "        google.colab.kernel.accessAllowed ? 'block' : 'none';\n",
              "\n",
              "      async function convertToInteractive(key) {\n",
              "        const element = document.querySelector('#df-c6cc45fb-4acb-4010-93ea-2388884c3c68');\n",
              "        const dataTable =\n",
              "          await google.colab.kernel.invokeFunction('convertToInteractive',\n",
              "                                                    [key], {});\n",
              "        if (!dataTable) return;\n",
              "\n",
              "        const docLinkHtml = 'Like what you see? Visit the ' +\n",
              "          '<a target=\"_blank\" href=https://colab.research.google.com/notebooks/data_table.ipynb>data table notebook</a>'\n",
              "          + ' to learn more about interactive tables.';\n",
              "        element.innerHTML = '';\n",
              "        dataTable['output_type'] = 'display_data';\n",
              "        await google.colab.output.renderOutput(dataTable, element);\n",
              "        const docLink = document.createElement('div');\n",
              "        docLink.innerHTML = docLinkHtml;\n",
              "        element.appendChild(docLink);\n",
              "      }\n",
              "    </script>\n",
              "  </div>\n",
              "\n",
              "\n",
              "<div id=\"df-3b60b085-9b92-4215-be27-b189c624f797\">\n",
              "  <button class=\"colab-df-quickchart\" onclick=\"quickchart('df-3b60b085-9b92-4215-be27-b189c624f797')\"\n",
              "            title=\"Suggest charts\"\n",
              "            style=\"display:none;\">\n",
              "\n",
              "<svg xmlns=\"http://www.w3.org/2000/svg\" height=\"24px\"viewBox=\"0 0 24 24\"\n",
              "     width=\"24px\">\n",
              "    <g>\n",
              "        <path d=\"M19 3H5c-1.1 0-2 .9-2 2v14c0 1.1.9 2 2 2h14c1.1 0 2-.9 2-2V5c0-1.1-.9-2-2-2zM9 17H7v-7h2v7zm4 0h-2V7h2v10zm4 0h-2v-4h2v4z\"/>\n",
              "    </g>\n",
              "</svg>\n",
              "  </button>\n",
              "\n",
              "<style>\n",
              "  .colab-df-quickchart {\n",
              "      --bg-color: #E8F0FE;\n",
              "      --fill-color: #1967D2;\n",
              "      --hover-bg-color: #E2EBFA;\n",
              "      --hover-fill-color: #174EA6;\n",
              "      --disabled-fill-color: #AAA;\n",
              "      --disabled-bg-color: #DDD;\n",
              "  }\n",
              "\n",
              "  [theme=dark] .colab-df-quickchart {\n",
              "      --bg-color: #3B4455;\n",
              "      --fill-color: #D2E3FC;\n",
              "      --hover-bg-color: #434B5C;\n",
              "      --hover-fill-color: #FFFFFF;\n",
              "      --disabled-bg-color: #3B4455;\n",
              "      --disabled-fill-color: #666;\n",
              "  }\n",
              "\n",
              "  .colab-df-quickchart {\n",
              "    background-color: var(--bg-color);\n",
              "    border: none;\n",
              "    border-radius: 50%;\n",
              "    cursor: pointer;\n",
              "    display: none;\n",
              "    fill: var(--fill-color);\n",
              "    height: 32px;\n",
              "    padding: 0;\n",
              "    width: 32px;\n",
              "  }\n",
              "\n",
              "  .colab-df-quickchart:hover {\n",
              "    background-color: var(--hover-bg-color);\n",
              "    box-shadow: 0 1px 2px rgba(60, 64, 67, 0.3), 0 1px 3px 1px rgba(60, 64, 67, 0.15);\n",
              "    fill: var(--button-hover-fill-color);\n",
              "  }\n",
              "\n",
              "  .colab-df-quickchart-complete:disabled,\n",
              "  .colab-df-quickchart-complete:disabled:hover {\n",
              "    background-color: var(--disabled-bg-color);\n",
              "    fill: var(--disabled-fill-color);\n",
              "    box-shadow: none;\n",
              "  }\n",
              "\n",
              "  .colab-df-spinner {\n",
              "    border: 2px solid var(--fill-color);\n",
              "    border-color: transparent;\n",
              "    border-bottom-color: var(--fill-color);\n",
              "    animation:\n",
              "      spin 1s steps(1) infinite;\n",
              "  }\n",
              "\n",
              "  @keyframes spin {\n",
              "    0% {\n",
              "      border-color: transparent;\n",
              "      border-bottom-color: var(--fill-color);\n",
              "      border-left-color: var(--fill-color);\n",
              "    }\n",
              "    20% {\n",
              "      border-color: transparent;\n",
              "      border-left-color: var(--fill-color);\n",
              "      border-top-color: var(--fill-color);\n",
              "    }\n",
              "    30% {\n",
              "      border-color: transparent;\n",
              "      border-left-color: var(--fill-color);\n",
              "      border-top-color: var(--fill-color);\n",
              "      border-right-color: var(--fill-color);\n",
              "    }\n",
              "    40% {\n",
              "      border-color: transparent;\n",
              "      border-right-color: var(--fill-color);\n",
              "      border-top-color: var(--fill-color);\n",
              "    }\n",
              "    60% {\n",
              "      border-color: transparent;\n",
              "      border-right-color: var(--fill-color);\n",
              "    }\n",
              "    80% {\n",
              "      border-color: transparent;\n",
              "      border-right-color: var(--fill-color);\n",
              "      border-bottom-color: var(--fill-color);\n",
              "    }\n",
              "    90% {\n",
              "      border-color: transparent;\n",
              "      border-bottom-color: var(--fill-color);\n",
              "    }\n",
              "  }\n",
              "</style>\n",
              "\n",
              "  <script>\n",
              "    async function quickchart(key) {\n",
              "      const quickchartButtonEl =\n",
              "        document.querySelector('#' + key + ' button');\n",
              "      quickchartButtonEl.disabled = true;  // To prevent multiple clicks.\n",
              "      quickchartButtonEl.classList.add('colab-df-spinner');\n",
              "      try {\n",
              "        const charts = await google.colab.kernel.invokeFunction(\n",
              "            'suggestCharts', [key], {});\n",
              "      } catch (error) {\n",
              "        console.error('Error during call to suggestCharts:', error);\n",
              "      }\n",
              "      quickchartButtonEl.classList.remove('colab-df-spinner');\n",
              "      quickchartButtonEl.classList.add('colab-df-quickchart-complete');\n",
              "    }\n",
              "    (() => {\n",
              "      let quickchartButtonEl =\n",
              "        document.querySelector('#df-3b60b085-9b92-4215-be27-b189c624f797 button');\n",
              "      quickchartButtonEl.style.display =\n",
              "        google.colab.kernel.accessAllowed ? 'block' : 'none';\n",
              "    })();\n",
              "  </script>\n",
              "</div>\n",
              "\n",
              "    </div>\n",
              "  </div>\n"
            ],
            "application/vnd.google.colaboratory.intrinsic+json": {
              "type": "dataframe",
              "summary": "{\n  \"name\": \"df[['Age','TB','DB','Alkphos','Sgpt','Sgot','TP','ALB','A/G Ratio']]\",\n  \"rows\": 8,\n  \"fields\": [\n    {\n      \"column\": \"Age\",\n      \"properties\": {\n        \"dtype\": \"number\",\n        \"std\": 193.19746263630807,\n        \"min\": 4.0,\n        \"max\": 583.0,\n        \"num_unique_values\": 8,\n        \"samples\": [\n          44.74614065180103,\n          45.0,\n          583.0\n        ],\n        \"semantic_type\": \"\",\n        \"description\": \"\"\n      }\n    },\n    {\n      \"column\": \"TB\",\n      \"properties\": {\n        \"dtype\": \"number\",\n        \"std\": 203.21423966540334,\n        \"min\": 0.4,\n        \"max\": 583.0,\n        \"num_unique_values\": 8,\n        \"samples\": [\n          3.298799313893653,\n          1.0,\n          583.0\n        ],\n        \"semantic_type\": \"\",\n        \"description\": \"\"\n      }\n    },\n    {\n      \"column\": \"DB\",\n      \"properties\": {\n        \"dtype\": \"number\",\n        \"std\": 204.91982276311322,\n        \"min\": 0.1,\n        \"max\": 583.0,\n        \"num_unique_values\": 8,\n        \"samples\": [\n          1.486106346483705,\n          0.3,\n          583.0\n        ],\n        \"semantic_type\": \"\",\n        \"description\": \"\"\n      }\n    },\n    {\n      \"column\": \"Alkphos\",\n      \"properties\": {\n        \"dtype\": \"number\",\n        \"std\": 668.8113528628011,\n        \"min\": 63.0,\n        \"max\": 2110.0,\n        \"num_unique_values\": 8,\n        \"samples\": [\n          290.57632933104634,\n          208.0,\n          583.0\n        ],\n        \"semantic_type\": \"\",\n        \"description\": \"\"\n      }\n    },\n    {\n      \"column\": \"Sgpt\",\n      \"properties\": {\n        \"dtype\": \"number\",\n        \"std\": 684.4250480910189,\n        \"min\": 10.0,\n        \"max\": 2000.0,\n        \"num_unique_values\": 8,\n        \"samples\": [\n          80.71355060034305,\n          35.0,\n          583.0\n        ],\n        \"semantic_type\": \"\",\n        \"description\": \"\"\n      }\n    },\n    {\n      \"column\": \"Sgot\",\n      \"properties\": {\n        \"dtype\": \"number\",\n        \"std\": 1695.6919519024464,\n        \"min\": 10.0,\n        \"max\": 4929.0,\n        \"num_unique_values\": 8,\n        \"samples\": [\n          109.91080617495712,\n          42.0,\n          583.0\n        ],\n        \"semantic_type\": \"\",\n        \"description\": \"\"\n      }\n    },\n    {\n      \"column\": \"TP\",\n      \"properties\": {\n        \"dtype\": \"number\",\n        \"std\": 204.14536092043835,\n        \"min\": 1.0854514840234664,\n        \"max\": 583.0,\n        \"num_unique_values\": 8,\n        \"samples\": [\n          6.483190394511149,\n          6.6,\n          583.0\n        ],\n        \"semantic_type\": \"\",\n        \"description\": \"\"\n      }\n    },\n    {\n      \"column\": \"ALB\",\n      \"properties\": {\n        \"dtype\": \"number\",\n        \"std\": 205.12531433205646,\n        \"min\": 0.795518805964027,\n        \"max\": 583.0,\n        \"num_unique_values\": 8,\n        \"samples\": [\n          3.141852487135506,\n          3.1,\n          583.0\n        ],\n        \"semantic_type\": \"\",\n        \"description\": \"\"\n      }\n    },\n    {\n      \"column\": \"A/G Ratio\",\n      \"properties\": {\n        \"dtype\": \"number\",\n        \"std\": 205.76387726028952,\n        \"min\": 0.3,\n        \"max\": 583.0,\n        \"num_unique_values\": 8,\n        \"samples\": [\n          0.9470639032815198,\n          0.9470639032815197,\n          583.0\n        ],\n        \"semantic_type\": \"\",\n        \"description\": \"\"\n      }\n    }\n  ]\n}"
            }
          },
          "metadata": {},
          "execution_count": 19
        }
      ],
      "source": [
        "df[['Age','TB','DB','Alkphos','Sgpt','Sgot','TP','ALB','A/G Ratio']].describe()"
      ]
    },
    {
      "cell_type": "markdown",
      "metadata": {
        "id": "m9iALm4eYchZ"
      },
      "source": [
        "## 2. Quebra do banco\n",
        "--------------------"
      ]
    },
    {
      "cell_type": "code",
      "execution_count": 44,
      "metadata": {
        "id": "w-Sk_EqjYpJL"
      },
      "outputs": [],
      "source": [
        "# Separando os dados entre features (X) e target (y)\n",
        "X = df.drop(columns=['Selector'])\n",
        "y = df['Selector']\n",
        "\n",
        "# Separar o conjunto de dados em treino (80%) e teste (20%)\n",
        "X_train, X_test, y_train, y_test = train_test_split(X, y, test_size=0.2, random_state=42)\n",
        "\n",
        "df['Selector'] = df['Selector'].replace({1: 1, 2: 0})\n"
      ]
    },
    {
      "cell_type": "markdown",
      "metadata": {
        "id": "uxtfBEUQYpna"
      },
      "source": [
        "## 3. Primeiro modelo\n",
        "--------------------"
      ]
    },
    {
      "cell_type": "code",
      "execution_count": 21,
      "metadata": {
        "id": "kvyAvj98Ys1l",
        "colab": {
          "base_uri": "https://localhost:8080/"
        },
        "outputId": "f1305689-f922-4dde-e11e-76fd5d891fae"
      },
      "outputs": [
        {
          "output_type": "stream",
          "name": "stdout",
          "text": [
            "Coeficientes do modelo de Regressão Logística: [-0.01489137 -0.16718292 -0.01160447 -0.40887938 -0.00139622 -0.00785538\n",
            " -0.00280661 -0.53122101  0.85342231 -0.59696675]\n",
            "              precision    recall  f1-score   support\n",
            "\n",
            "           1       0.78      0.92      0.85        87\n",
            "           2       0.53      0.27      0.36        30\n",
            "\n",
            "    accuracy                           0.75       117\n",
            "   macro avg       0.66      0.59      0.60       117\n",
            "weighted avg       0.72      0.75      0.72       117\n",
            "\n"
          ]
        }
      ],
      "source": [
        "# Treinar o modelo de Regressão Logística\n",
        "log_reg = LogisticRegression(max_iter=1000)\n",
        "log_reg.fit(X_train, y_train)\n",
        "\n",
        "# Coeficientes do modelo\n",
        "coef = log_reg.coef_[0]\n",
        "print(\"Coeficientes do modelo de Regressão Logística:\", coef)\n",
        "\n",
        "# Prever no conjunto de teste\n",
        "y_pred_log = log_reg.predict(X_test)\n",
        "\n",
        "# Avaliação do modelo de Regressão Logística\n",
        "print(classification_report(y_test, y_pred_log))"
      ]
    },
    {
      "cell_type": "markdown",
      "metadata": {
        "id": "MhqIEkqzY94Q"
      },
      "source": [
        "## 3.1 Interpretação de dois coeficientes\n",
        "--------------------"
      ]
    },
    {
      "cell_type": "code",
      "execution_count": 22,
      "metadata": {
        "colab": {
          "base_uri": "https://localhost:8080/"
        },
        "id": "qX28JmTY93f_",
        "outputId": "a819d201-6e6d-4a4b-b2ff-eaa1eacf27da"
      },
      "outputs": [
        {
          "output_type": "stream",
          "name": "stdout",
          "text": [
            "     Feature  Coefficient\n",
            "0        Age    -0.014891\n",
            "1     Gender    -0.167183\n",
            "2         TB    -0.011604\n",
            "3         DB    -0.408879\n",
            "4    Alkphos    -0.001396\n",
            "5       Sgpt    -0.007855\n",
            "6       Sgot    -0.002807\n",
            "7         TP    -0.531221\n",
            "8        ALB     0.853422\n",
            "9  A/G Ratio    -0.596967\n",
            "Coeficiente de TB (Bilirrubina Total): -0.011604471479556344\n",
            "Coeficiente de Age (Idade): -0.01489136816504333\n"
          ]
        }
      ],
      "source": [
        "# Interpretando dois coeficientes\n",
        "coef_df = pd.DataFrame({\"Feature\": X.columns, \"Coefficient\": coef})\n",
        "print(coef_df)\n",
        "\n",
        "# Exemplo de interpretação\n",
        "print(f\"Coeficiente de TB (Bilirrubina Total): {coef_df[coef_df['Feature'] == 'TB']['Coefficient'].values[0]}\")\n",
        "print(f\"Coeficiente de Age (Idade): {coef_df[coef_df['Feature'] == 'Age']['Coefficient'].values[0]}\")\n"
      ]
    },
    {
      "cell_type": "code",
      "source": [
        "#Criando um df para obtenção do log_reg\n",
        "pd.DataFrame(log_reg.coef_.T, index=X_train.columns)"
      ],
      "metadata": {
        "colab": {
          "base_uri": "https://localhost:8080/",
          "height": 363
        },
        "id": "w4H-Co_lBJgT",
        "outputId": "06bd4f11-0f15-4cb6-dd5c-874b4ffe4b86"
      },
      "execution_count": 30,
      "outputs": [
        {
          "output_type": "execute_result",
          "data": {
            "text/plain": [
              "                  0\n",
              "Age       -0.014891\n",
              "Gender    -0.167183\n",
              "TB        -0.011604\n",
              "DB        -0.408879\n",
              "Alkphos   -0.001396\n",
              "Sgpt      -0.007855\n",
              "Sgot      -0.002807\n",
              "TP        -0.531221\n",
              "ALB        0.853422\n",
              "A/G Ratio -0.596967"
            ],
            "text/html": [
              "\n",
              "  <div id=\"df-26f43045-28b2-4e04-ae23-7f9c56b835e6\" class=\"colab-df-container\">\n",
              "    <div>\n",
              "<style scoped>\n",
              "    .dataframe tbody tr th:only-of-type {\n",
              "        vertical-align: middle;\n",
              "    }\n",
              "\n",
              "    .dataframe tbody tr th {\n",
              "        vertical-align: top;\n",
              "    }\n",
              "\n",
              "    .dataframe thead th {\n",
              "        text-align: right;\n",
              "    }\n",
              "</style>\n",
              "<table border=\"1\" class=\"dataframe\">\n",
              "  <thead>\n",
              "    <tr style=\"text-align: right;\">\n",
              "      <th></th>\n",
              "      <th>0</th>\n",
              "    </tr>\n",
              "  </thead>\n",
              "  <tbody>\n",
              "    <tr>\n",
              "      <th>Age</th>\n",
              "      <td>-0.014891</td>\n",
              "    </tr>\n",
              "    <tr>\n",
              "      <th>Gender</th>\n",
              "      <td>-0.167183</td>\n",
              "    </tr>\n",
              "    <tr>\n",
              "      <th>TB</th>\n",
              "      <td>-0.011604</td>\n",
              "    </tr>\n",
              "    <tr>\n",
              "      <th>DB</th>\n",
              "      <td>-0.408879</td>\n",
              "    </tr>\n",
              "    <tr>\n",
              "      <th>Alkphos</th>\n",
              "      <td>-0.001396</td>\n",
              "    </tr>\n",
              "    <tr>\n",
              "      <th>Sgpt</th>\n",
              "      <td>-0.007855</td>\n",
              "    </tr>\n",
              "    <tr>\n",
              "      <th>Sgot</th>\n",
              "      <td>-0.002807</td>\n",
              "    </tr>\n",
              "    <tr>\n",
              "      <th>TP</th>\n",
              "      <td>-0.531221</td>\n",
              "    </tr>\n",
              "    <tr>\n",
              "      <th>ALB</th>\n",
              "      <td>0.853422</td>\n",
              "    </tr>\n",
              "    <tr>\n",
              "      <th>A/G Ratio</th>\n",
              "      <td>-0.596967</td>\n",
              "    </tr>\n",
              "  </tbody>\n",
              "</table>\n",
              "</div>\n",
              "    <div class=\"colab-df-buttons\">\n",
              "\n",
              "  <div class=\"colab-df-container\">\n",
              "    <button class=\"colab-df-convert\" onclick=\"convertToInteractive('df-26f43045-28b2-4e04-ae23-7f9c56b835e6')\"\n",
              "            title=\"Convert this dataframe to an interactive table.\"\n",
              "            style=\"display:none;\">\n",
              "\n",
              "  <svg xmlns=\"http://www.w3.org/2000/svg\" height=\"24px\" viewBox=\"0 -960 960 960\">\n",
              "    <path d=\"M120-120v-720h720v720H120Zm60-500h600v-160H180v160Zm220 220h160v-160H400v160Zm0 220h160v-160H400v160ZM180-400h160v-160H180v160Zm440 0h160v-160H620v160ZM180-180h160v-160H180v160Zm440 0h160v-160H620v160Z\"/>\n",
              "  </svg>\n",
              "    </button>\n",
              "\n",
              "  <style>\n",
              "    .colab-df-container {\n",
              "      display:flex;\n",
              "      gap: 12px;\n",
              "    }\n",
              "\n",
              "    .colab-df-convert {\n",
              "      background-color: #E8F0FE;\n",
              "      border: none;\n",
              "      border-radius: 50%;\n",
              "      cursor: pointer;\n",
              "      display: none;\n",
              "      fill: #1967D2;\n",
              "      height: 32px;\n",
              "      padding: 0 0 0 0;\n",
              "      width: 32px;\n",
              "    }\n",
              "\n",
              "    .colab-df-convert:hover {\n",
              "      background-color: #E2EBFA;\n",
              "      box-shadow: 0px 1px 2px rgba(60, 64, 67, 0.3), 0px 1px 3px 1px rgba(60, 64, 67, 0.15);\n",
              "      fill: #174EA6;\n",
              "    }\n",
              "\n",
              "    .colab-df-buttons div {\n",
              "      margin-bottom: 4px;\n",
              "    }\n",
              "\n",
              "    [theme=dark] .colab-df-convert {\n",
              "      background-color: #3B4455;\n",
              "      fill: #D2E3FC;\n",
              "    }\n",
              "\n",
              "    [theme=dark] .colab-df-convert:hover {\n",
              "      background-color: #434B5C;\n",
              "      box-shadow: 0px 1px 3px 1px rgba(0, 0, 0, 0.15);\n",
              "      filter: drop-shadow(0px 1px 2px rgba(0, 0, 0, 0.3));\n",
              "      fill: #FFFFFF;\n",
              "    }\n",
              "  </style>\n",
              "\n",
              "    <script>\n",
              "      const buttonEl =\n",
              "        document.querySelector('#df-26f43045-28b2-4e04-ae23-7f9c56b835e6 button.colab-df-convert');\n",
              "      buttonEl.style.display =\n",
              "        google.colab.kernel.accessAllowed ? 'block' : 'none';\n",
              "\n",
              "      async function convertToInteractive(key) {\n",
              "        const element = document.querySelector('#df-26f43045-28b2-4e04-ae23-7f9c56b835e6');\n",
              "        const dataTable =\n",
              "          await google.colab.kernel.invokeFunction('convertToInteractive',\n",
              "                                                    [key], {});\n",
              "        if (!dataTable) return;\n",
              "\n",
              "        const docLinkHtml = 'Like what you see? Visit the ' +\n",
              "          '<a target=\"_blank\" href=https://colab.research.google.com/notebooks/data_table.ipynb>data table notebook</a>'\n",
              "          + ' to learn more about interactive tables.';\n",
              "        element.innerHTML = '';\n",
              "        dataTable['output_type'] = 'display_data';\n",
              "        await google.colab.output.renderOutput(dataTable, element);\n",
              "        const docLink = document.createElement('div');\n",
              "        docLink.innerHTML = docLinkHtml;\n",
              "        element.appendChild(docLink);\n",
              "      }\n",
              "    </script>\n",
              "  </div>\n",
              "\n",
              "\n",
              "<div id=\"df-700698c4-45ec-4eb9-af3e-8d1c931dfbac\">\n",
              "  <button class=\"colab-df-quickchart\" onclick=\"quickchart('df-700698c4-45ec-4eb9-af3e-8d1c931dfbac')\"\n",
              "            title=\"Suggest charts\"\n",
              "            style=\"display:none;\">\n",
              "\n",
              "<svg xmlns=\"http://www.w3.org/2000/svg\" height=\"24px\"viewBox=\"0 0 24 24\"\n",
              "     width=\"24px\">\n",
              "    <g>\n",
              "        <path d=\"M19 3H5c-1.1 0-2 .9-2 2v14c0 1.1.9 2 2 2h14c1.1 0 2-.9 2-2V5c0-1.1-.9-2-2-2zM9 17H7v-7h2v7zm4 0h-2V7h2v10zm4 0h-2v-4h2v4z\"/>\n",
              "    </g>\n",
              "</svg>\n",
              "  </button>\n",
              "\n",
              "<style>\n",
              "  .colab-df-quickchart {\n",
              "      --bg-color: #E8F0FE;\n",
              "      --fill-color: #1967D2;\n",
              "      --hover-bg-color: #E2EBFA;\n",
              "      --hover-fill-color: #174EA6;\n",
              "      --disabled-fill-color: #AAA;\n",
              "      --disabled-bg-color: #DDD;\n",
              "  }\n",
              "\n",
              "  [theme=dark] .colab-df-quickchart {\n",
              "      --bg-color: #3B4455;\n",
              "      --fill-color: #D2E3FC;\n",
              "      --hover-bg-color: #434B5C;\n",
              "      --hover-fill-color: #FFFFFF;\n",
              "      --disabled-bg-color: #3B4455;\n",
              "      --disabled-fill-color: #666;\n",
              "  }\n",
              "\n",
              "  .colab-df-quickchart {\n",
              "    background-color: var(--bg-color);\n",
              "    border: none;\n",
              "    border-radius: 50%;\n",
              "    cursor: pointer;\n",
              "    display: none;\n",
              "    fill: var(--fill-color);\n",
              "    height: 32px;\n",
              "    padding: 0;\n",
              "    width: 32px;\n",
              "  }\n",
              "\n",
              "  .colab-df-quickchart:hover {\n",
              "    background-color: var(--hover-bg-color);\n",
              "    box-shadow: 0 1px 2px rgba(60, 64, 67, 0.3), 0 1px 3px 1px rgba(60, 64, 67, 0.15);\n",
              "    fill: var(--button-hover-fill-color);\n",
              "  }\n",
              "\n",
              "  .colab-df-quickchart-complete:disabled,\n",
              "  .colab-df-quickchart-complete:disabled:hover {\n",
              "    background-color: var(--disabled-bg-color);\n",
              "    fill: var(--disabled-fill-color);\n",
              "    box-shadow: none;\n",
              "  }\n",
              "\n",
              "  .colab-df-spinner {\n",
              "    border: 2px solid var(--fill-color);\n",
              "    border-color: transparent;\n",
              "    border-bottom-color: var(--fill-color);\n",
              "    animation:\n",
              "      spin 1s steps(1) infinite;\n",
              "  }\n",
              "\n",
              "  @keyframes spin {\n",
              "    0% {\n",
              "      border-color: transparent;\n",
              "      border-bottom-color: var(--fill-color);\n",
              "      border-left-color: var(--fill-color);\n",
              "    }\n",
              "    20% {\n",
              "      border-color: transparent;\n",
              "      border-left-color: var(--fill-color);\n",
              "      border-top-color: var(--fill-color);\n",
              "    }\n",
              "    30% {\n",
              "      border-color: transparent;\n",
              "      border-left-color: var(--fill-color);\n",
              "      border-top-color: var(--fill-color);\n",
              "      border-right-color: var(--fill-color);\n",
              "    }\n",
              "    40% {\n",
              "      border-color: transparent;\n",
              "      border-right-color: var(--fill-color);\n",
              "      border-top-color: var(--fill-color);\n",
              "    }\n",
              "    60% {\n",
              "      border-color: transparent;\n",
              "      border-right-color: var(--fill-color);\n",
              "    }\n",
              "    80% {\n",
              "      border-color: transparent;\n",
              "      border-right-color: var(--fill-color);\n",
              "      border-bottom-color: var(--fill-color);\n",
              "    }\n",
              "    90% {\n",
              "      border-color: transparent;\n",
              "      border-bottom-color: var(--fill-color);\n",
              "    }\n",
              "  }\n",
              "</style>\n",
              "\n",
              "  <script>\n",
              "    async function quickchart(key) {\n",
              "      const quickchartButtonEl =\n",
              "        document.querySelector('#' + key + ' button');\n",
              "      quickchartButtonEl.disabled = true;  // To prevent multiple clicks.\n",
              "      quickchartButtonEl.classList.add('colab-df-spinner');\n",
              "      try {\n",
              "        const charts = await google.colab.kernel.invokeFunction(\n",
              "            'suggestCharts', [key], {});\n",
              "      } catch (error) {\n",
              "        console.error('Error during call to suggestCharts:', error);\n",
              "      }\n",
              "      quickchartButtonEl.classList.remove('colab-df-spinner');\n",
              "      quickchartButtonEl.classList.add('colab-df-quickchart-complete');\n",
              "    }\n",
              "    (() => {\n",
              "      let quickchartButtonEl =\n",
              "        document.querySelector('#df-700698c4-45ec-4eb9-af3e-8d1c931dfbac button');\n",
              "      quickchartButtonEl.style.display =\n",
              "        google.colab.kernel.accessAllowed ? 'block' : 'none';\n",
              "    })();\n",
              "  </script>\n",
              "</div>\n",
              "\n",
              "    </div>\n",
              "  </div>\n"
            ],
            "application/vnd.google.colaboratory.intrinsic+json": {
              "type": "dataframe",
              "summary": "{\n  \"name\": \"pd\",\n  \"rows\": 10,\n  \"fields\": [\n    {\n      \"column\": 0,\n      \"properties\": {\n        \"dtype\": \"number\",\n        \"std\": 0.40597689136768883,\n        \"min\": -0.5969667473215885,\n        \"max\": 0.8534223103497529,\n        \"num_unique_values\": 10,\n        \"samples\": [\n          0.8534223103497529,\n          -0.16718291880766864,\n          -0.007855379564602468\n        ],\n        \"semantic_type\": \"\",\n        \"description\": \"\"\n      }\n    }\n  ]\n}"
            }
          },
          "metadata": {},
          "execution_count": 30
        }
      ]
    },
    {
      "cell_type": "code",
      "source": [
        "log_reg.coef_\n",
        "log_reg.intercept_"
      ],
      "metadata": {
        "colab": {
          "base_uri": "https://localhost:8080/"
        },
        "id": "-L_yTpQHBJI2",
        "outputId": "ca90dae8-3002-4c18-f8c5-036be00ef8ff"
      },
      "execution_count": 32,
      "outputs": [
        {
          "output_type": "execute_result",
          "data": {
            "text/plain": [
              "array([2.44120175])"
            ]
          },
          "metadata": {},
          "execution_count": 32
        }
      ]
    },
    {
      "cell_type": "code",
      "source": [
        "pred_class = log_reg.predict(X_test)"
      ],
      "metadata": {
        "id": "jQ-53XTUBC7h"
      },
      "execution_count": 35,
      "outputs": []
    },
    {
      "cell_type": "code",
      "source": [
        "confusion_matrix(y_test, pred_class)"
      ],
      "metadata": {
        "colab": {
          "base_uri": "https://localhost:8080/"
        },
        "id": "0fr2SCW3Aa11",
        "outputId": "88aee96a-0d0c-4ecb-e058-51a9002f0822"
      },
      "execution_count": 37,
      "outputs": [
        {
          "output_type": "execute_result",
          "data": {
            "text/plain": [
              "array([[80,  7],\n",
              "       [22,  8]])"
            ]
          },
          "metadata": {},
          "execution_count": 37
        }
      ]
    },
    {
      "cell_type": "code",
      "source": [
        "# cálculo do probabilidade do predito\n",
        "pred_prob = log_reg.predict_proba(X_test)\n",
        "\n",
        "#Cálculo do AUC\n",
        "\n",
        "roc_auc = roc_auc_score(y_test, pred_prob[:, 1])\n",
        "roc_auc"
      ],
      "metadata": {
        "colab": {
          "base_uri": "https://localhost:8080/"
        },
        "id": "FaYXeSWXCC18",
        "outputId": "2d63095d-5363-4c65-fce8-018828282fb2"
      },
      "execution_count": 40,
      "outputs": [
        {
          "output_type": "execute_result",
          "data": {
            "text/plain": [
              "0.8199233716475096"
            ]
          },
          "metadata": {},
          "execution_count": 40
        }
      ]
    },
    {
      "cell_type": "code",
      "source": [
        "fpr, tpr, thresholds = roc_curve(y_test, pred_prob[:, 1], pos_label=1)\n",
        "display = RocCurveDisplay(fpr=fpr, tpr=tpr, roc_auc=roc_auc)\n",
        "display.plot()"
      ],
      "metadata": {
        "colab": {
          "base_uri": "https://localhost:8080/",
          "height": 468
        },
        "id": "B7CK6YJBCRSK",
        "outputId": "a9b105fd-9e30-4be3-b6c8-2807f184bb66"
      },
      "execution_count": 43,
      "outputs": [
        {
          "output_type": "execute_result",
          "data": {
            "text/plain": [
              "<sklearn.metrics._plot.roc_curve.RocCurveDisplay at 0x7e5e491fb0d0>"
            ]
          },
          "metadata": {},
          "execution_count": 43
        },
        {
          "output_type": "display_data",
          "data": {
            "text/plain": [
              "<Figure size 640x480 with 1 Axes>"
            ],
            "image/png": "[encoded data removed]"
          },
          "metadata": {}
        }
      ]
    },
    {
      "cell_type": "markdown",
      "metadata": {
        "id": "iHa9mKShYsRy"
      },
      "source": [
        "## 4. Segundo modelo\n",
        "--------------------"
      ]
    },
    {
      "cell_type": "code",
      "execution_count": 23,
      "metadata": {
        "id": "bR3xFRxAY2hr",
        "colab": {
          "base_uri": "https://localhost:8080/"
        },
        "outputId": "8b3f28e4-b437-4935-e1d3-6fcc041b8e21"
      },
      "outputs": [
        {
          "output_type": "stream",
          "name": "stdout",
          "text": [
            "              precision    recall  f1-score   support\n",
            "\n",
            "           1       0.82      0.82      0.82        87\n",
            "           2       0.47      0.47      0.47        30\n",
            "\n",
            "    accuracy                           0.73       117\n",
            "   macro avg       0.64      0.64      0.64       117\n",
            "weighted avg       0.73      0.73      0.73       117\n",
            "\n",
            "Duas features mais importantes: [(0.43597288475860335, 'DB'), (0.25079033519879484, 'Alkphos')]\n"
          ]
        }
      ],
      "source": [
        "# Treinar o modelo de Árvore de Decisão com max_depth=4\n",
        "tree = DecisionTreeClassifier(max_depth=4, random_state=42)\n",
        "tree.fit(X_train, y_train)\n",
        "\n",
        "# Prever no conjunto de teste\n",
        "y_pred_tree = tree.predict(X_test)\n",
        "\n",
        "# Avaliação do modelo de Árvore de Decisão\n",
        "print(classification_report(y_test, y_pred_tree))\n",
        "\n",
        "# Importância das features\n",
        "importances = tree.feature_importances_\n",
        "features_importantes = sorted(zip(importances, X.columns), reverse=True)\n",
        "print(\"Duas features mais importantes:\", features_importantes[:2])\n"
      ]
    },
    {
      "cell_type": "markdown",
      "metadata": {
        "id": "m_mA--yyZDMS"
      },
      "source": [
        "## 4.1 Duas features mais importantes\n",
        "--------------------"
      ]
    },
    {
      "cell_type": "code",
      "execution_count": null,
      "metadata": {
        "id": "hyUnunkY93f_",
        "outputId": "7c6112be-82c9-41ce-f1b8-5f8927c54853"
      },
      "outputs": [
        {
          "name": "stdout",
          "output_type": "stream",
          "text": [
            "Duas features mais importantes: [(0.43597288475860335, 'DB'), (0.25079033519879484, 'Alkphos')]\n"
          ]
        }
      ],
      "source": [
        "print(\"Duas features mais importantes:\", features_importantes[:2])\n"
      ]
    },
    {
      "cell_type": "code",
      "execution_count": null,
      "metadata": {
        "id": "DpHtuvGl93f_",
        "outputId": "27832356-e9f4-4f4f-fdb3-2e6937255205"
      },
      "outputs": [
        {
          "name": "stdout",
          "output_type": "stream",
          "text": [
            "              precision    recall  f1-score   support\n",
            "\n",
            "           1       0.82      0.82      0.82        87\n",
            "           2       0.47      0.47      0.47        30\n",
            "\n",
            "    accuracy                           0.73       117\n",
            "   macro avg       0.64      0.64      0.64       117\n",
            "weighted avg       0.73      0.73      0.73       117\n",
            "\n",
            "Duas features mais importantes: [(0.43597288475860335, 'DB'), (0.25079033519879484, 'Alkphos')]\n"
          ]
        }
      ],
      "source": [
        "# Treinar o modelo de Árvore de Decisão com max_depth=4\n",
        "tree = DecisionTreeClassifier(max_depth=4, random_state=42)\n",
        "tree.fit(X_train, y_train)\n",
        "\n",
        "# Prever no conjunto de teste\n",
        "y_pred_tree = tree.predict(X_test)\n",
        "\n",
        "# Avaliação do modelo de Árvore de Decisão\n",
        "print(classification_report(y_test, y_pred_tree))\n",
        "\n",
        "# Importância das features\n",
        "importances = tree.feature_importances_\n",
        "features_importantes = sorted(zip(importances, X.columns), reverse=True)\n",
        "print(\"Duas features mais importantes:\", features_importantes[:2])\n"
      ]
    },
    {
      "cell_type": "markdown",
      "metadata": {
        "id": "EGFBuaF_Y4kg"
      },
      "source": [
        "## 5. Avaliação do modelo\n",
        "--------------------"
      ]
    },
    {
      "cell_type": "code",
      "execution_count": null,
      "metadata": {
        "id": "D5X9-jtJY73h",
        "outputId": "fa2d56f4-9967-44a3-d322-0d0f89c5c2fe"
      },
      "outputs": [
        {
          "name": "stdout",
          "output_type": "stream",
          "text": [
            "Precisão Regressão Logística: 0.5333333333333333\n",
            "Precisão Árvore de Decisão: 0.4666666666666667\n",
            "F1-score Regressão Logística: 0.35555555555555557\n",
            "F1-score Árvore de Decisão: 0.4666666666666667\n"
          ]
        }
      ],
      "source": [
        "from sklearn.metrics import precision_score, f1_score\n",
        "\n",
        "# Precisão da classe de pacientes doentes\n",
        "precision_log = precision_score(y_test, y_pred_log, pos_label=2)\n",
        "precision_tree = precision_score(y_test, y_pred_tree, pos_label=2)\n",
        "\n",
        "# f1-score da classe de pacientes doentes\n",
        "f1_log = f1_score(y_test, y_pred_log, pos_label=2)\n",
        "f1_tree = f1_score(y_test, y_pred_tree, pos_label=2)\n",
        "\n",
        "print(f\"Precisão Regressão Logística: {precision_log}\")\n",
        "print(f\"Precisão Árvore de Decisão: {precision_tree}\")\n",
        "\n",
        "print(f\"F1-score Regressão Logística: {f1_log}\")\n",
        "print(f\"F1-score Árvore de Decisão: {f1_tree}\")\n"
      ]
    },
    {
      "cell_type": "markdown",
      "metadata": {
        "id": "y98QDkPAZGjP"
      },
      "source": [
        "## 5.1 Qual modelo escolhido olhando para a precisão de detecção de doença no fígado?\n",
        "--------------------"
      ]
    },
    {
      "cell_type": "code",
      "execution_count": null,
      "metadata": {
        "id": "hoq46Wrw93gA",
        "outputId": "91f8ce40-e969-4f8f-94d1-77cef8263a91"
      },
      "outputs": [
        {
          "name": "stdout",
          "output_type": "stream",
          "text": [
            "Precisão Regressão Logística: 0.5333333333333333\n",
            "Precisão Árvore de Decisão: 0.4666666666666667\n",
            "A Regressão Logística tem melhor desempenho na precisão de detecção de doença no fígado.\n"
          ]
        }
      ],
      "source": [
        "print(f\"Precisão Regressão Logística: {precision_log}\")\n",
        "print(f\"Precisão Árvore de Decisão: {precision_tree}\")\n",
        "\n",
        "# Escolha do modelo com base na precisão\n",
        "if precision_log > precision_tree:\n",
        "    print(\"A Regressão Logística tem melhor desempenho na precisão de detecção de doença no fígado.\")\n",
        "else:\n",
        "    print(\"A Árvore de Decisão tem melhor desempenho na precisão de detecção de doença no fígado.\")\n"
      ]
    },
    {
      "cell_type": "markdown",
      "metadata": {
        "id": "val9nAmnZPyB"
      },
      "source": [
        "## 5.2 Qual modelo escolhido olhando para o f1-score do rótulo de doença do fígado?\n",
        "--------------------"
      ]
    },
    {
      "cell_type": "code",
      "execution_count": null,
      "metadata": {
        "id": "h2ra8tP893gA",
        "outputId": "414ff961-0b4b-4a91-c6d4-5a995751600b"
      },
      "outputs": [
        {
          "name": "stdout",
          "output_type": "stream",
          "text": [
            "F1-score Regressão Logística: 0.35555555555555557\n",
            "F1-score Árvore de Decisão: 0.4666666666666667\n",
            "A Árvore de Decisão tem melhor desempenho no f1-score da detecção de doença no fígado.\n"
          ]
        }
      ],
      "source": [
        "print(f\"F1-score Regressão Logística: {f1_log}\")\n",
        "print(f\"F1-score Árvore de Decisão: {f1_tree}\")\n",
        "\n",
        "# Escolha do modelo com base no f1-score\n",
        "if f1_log > f1_tree:\n",
        "    print(\"A Regressão Logística tem melhor desempenho no f1-score da detecção de doença no fígado.\")\n",
        "else:\n",
        "    print(\"A Árvore de Decisão tem melhor desempenho no f1-score da detecção de doença no fígado.\")\n"
      ]
    }
  ],
  "metadata": {
    "colab": {
      "provenance": []
    },
    "kernelspec": {
      "display_name": "pucminas",
      "language": "python",
      "name": "python3"
    },
    "language_info": {
      "codemirror_mode": {
        "name": "ipython",
        "version": 3
      },
      "file_extension": ".py",
      "mimetype": "text/x-python",
      "name": "python",
      "nbconvert_exporter": "python",
      "pygments_lexer": "ipython3",
      "version": "3.12.2"
    }
  },
  "nbformat": 4,
  "nbformat_minor": 0
}