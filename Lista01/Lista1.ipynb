{
  "cells": [
    {
      "cell_type": "markdown",
      "metadata": {
        "id": "e9yTIwo6WDBU"
      },
      "source": [
        "# Lista 1\n",
        "-------------\n",
        "\n",
        "\n",
        "**Objetivo**: Treinar modelos de classificação utilizando Regressão Logística e Árvore de Decisão.\n",
        "\n",
        "\n",
        "**Banco de Dados**: Detecção de Doenças no Fígado\n",
        "\n",
        "\n",
        "[Link para o banco](https://drive.google.com/file/d/1jnLwuv4e_ZeCqluMXs3Mar2TGetumtVv/view?usp=drive_link)\n",
        "\n",
        "\n",
        "Descrição do banco:\n",
        "> Este banco de dados contém registros de 416 pacientes diagnosticados com doença no fígado e 167 pacientes sem a doença. Esta informação está na coluna `Selector`.\n",
        ">\n",
        "> O banco de dados possui 10 variáveis:\n",
        ">\n",
        "> * `age`: idade\n",
        "> * `Gender`: gênero do paciente\n",
        "> * `TB`: Bilirrubina total\n",
        "> * `DB`: Bilirrubina direta\n",
        "> * `Alkphos`: fosfatase alcalina.\n",
        "> * `Sgpt`: transaminase glutâmico-pirúvica sérica (TGP)\n",
        "> * `Sgot`: transaminase glutâmico-oxalacética sérica (TGO)\n",
        "> * `TP`: Proteína total\n",
        "> * `ALB`: Albumina\n",
        "> * `A/G Ratio`: Relação Albumina:Globulina\n",
        "\n",
        "\n",
        "Exercício:\n",
        "\n",
        "\n",
        "1. Carregue o banco de dados e analise suas features (calcule as descritivas).  \n",
        "* Transforme a feature sexo em uma variavel dummy.\n",
        "2. Separe o banco dados:\n",
        "* Utilize 80% dos dados para treino e 20% para teste.\n",
        "3. Treine um modelo de Regressão Logística.\n",
        "* Interprete dois coeficientes.\n",
        "4. Treine um modelo de árvore de decisão.\n",
        "* Utilize max_depth de 4.\n",
        "* Identifique as duas features mais importantes.\n",
        "5. Construa um relatório comparativo dos dois modelos:\n",
        "* Utilizando a **precisão da classe de pacientes doentes**, qual modelo tem melhor desempenho na detecção de doença no fígado?\n",
        "* Utilizando o **f1-score da classe de pacientes doentes**, qual modelo tem melhor desempenho na detecção de doença no fígado?\n",
        "\n",
        "\n",
        "Obs.: Utilize o **mesmo** conjunto de treino e teste para construir e avaliar ambos os modelos."
      ]
    },
    {
      "cell_type": "markdown",
      "metadata": {
        "id": "407ENJcYYaQN"
      },
      "source": [
        "## 1. Carga do banco\n",
        "--------------------"
      ]
    },
    {
      "cell_type": "code",
      "execution_count": 7,
      "metadata": {
        "colab": {
          "base_uri": "https://localhost:8080/",
          "height": 73
        },
        "id": "4zQuqod4V-Wp",
        "outputId": "2ba9f23f-9e8d-4826-a35f-07b520903b5d"
      },
      "outputs": [],
      "source": [
        "import pandas as pd\n",
        "from sklearn.model_selection import train_test_split\n",
        "from sklearn.linear_model import LogisticRegression\n",
        "from sklearn.tree import DecisionTreeClassifier\n",
        "from sklearn.metrics import classification_report\n",
        "from sklearn.impute import SimpleImputer\n",
        "import plotly.express as px\n",
        "\n",
        "df = pd.read_csv('../dataset/IndianLiverPatientDataset(ILPD).csv')"
      ]
    },
    {
      "cell_type": "markdown",
      "metadata": {
        "id": "y4nMbhv993f5"
      },
      "source": [
        "\n",
        "### 1.1 - Exibir as primeiras linhas do DataFrame"
      ]
    },
    {
      "cell_type": "code",
      "execution_count": 8,
      "metadata": {
        "colab": {
          "base_uri": "https://localhost:8080/"
        },
        "id": "83Do1uUu93f6",
        "outputId": "d67b0fdf-e368-4b4f-fccb-fe3125b0a5b7"
      },
      "outputs": [
        {
          "name": "stdout",
          "output_type": "stream",
          "text": [
            "   Age  Gender    TB   DB  Alkphos  Sgpt  Sgot   TP  ALB  A/G Ratio  Selector\n",
            "0   65  Female   0.7  0.1      187    16    18  6.8  3.3       0.90         1\n",
            "1   62    Male  10.9  5.5      699    64   100  7.5  3.2       0.74         1\n",
            "2   62    Male   7.3  4.1      490    60    68  7.0  3.3       0.89         1\n",
            "3   58    Male   1.0  0.4      182    14    20  6.8  3.4       1.00         1\n",
            "4   72    Male   3.9  2.0      195    27    59  7.3  2.4       0.40         1\n"
          ]
        }
      ],
      "source": [
        "print(df.head())"
      ]
    },
    {
      "cell_type": "markdown",
      "metadata": {
        "id": "x8_rduzw93f7"
      },
      "source": [
        "### 1.2 - Analisar as features descritivas"
      ]
    },
    {
      "cell_type": "code",
      "execution_count": 9,
      "metadata": {
        "colab": {
          "base_uri": "https://localhost:8080/"
        },
        "id": "-fgs_os093f7",
        "outputId": "9d89549d-9d86-4fe8-985c-0a1b9e3b7421"
      },
      "outputs": [
        {
          "name": "stdout",
          "output_type": "stream",
          "text": [
            "              Age          TB          DB      Alkphos         Sgpt  \\\n",
            "count  583.000000  583.000000  583.000000   583.000000   583.000000   \n",
            "mean    44.746141    3.298799    1.486106   290.576329    80.713551   \n",
            "std     16.189833    6.209522    2.808498   242.937989   182.620356   \n",
            "min      4.000000    0.400000    0.100000    63.000000    10.000000   \n",
            "25%     33.000000    0.800000    0.200000   175.500000    23.000000   \n",
            "50%     45.000000    1.000000    0.300000   208.000000    35.000000   \n",
            "75%     58.000000    2.600000    1.300000   298.000000    60.500000   \n",
            "max     90.000000   75.000000   19.700000  2110.000000  2000.000000   \n",
            "\n",
            "              Sgot          TP         ALB   A/G Ratio    Selector  \n",
            "count   583.000000  583.000000  583.000000  579.000000  583.000000  \n",
            "mean    109.910806    6.483190    3.141852    0.947064    1.286449  \n",
            "std     288.918529    1.085451    0.795519    0.319592    0.452490  \n",
            "min      10.000000    2.700000    0.900000    0.300000    1.000000  \n",
            "25%      25.000000    5.800000    2.600000    0.700000    1.000000  \n",
            "50%      42.000000    6.600000    3.100000    0.930000    1.000000  \n",
            "75%      87.000000    7.200000    3.800000    1.100000    2.000000  \n",
            "max    4929.000000    9.600000    5.500000    2.800000    2.000000  \n"
          ]
        }
      ],
      "source": [
        "print(df.describe())"
      ]
    },
    {
      "cell_type": "markdown",
      "metadata": {
        "id": "zuuRXceb93f8"
      },
      "source": [
        "### 1.3 - Transformar a coluna Gender em dummy"
      ]
    },
    {
      "cell_type": "code",
      "execution_count": 10,
      "metadata": {
        "id": "JJyRs9ov93f8"
      },
      "outputs": [],
      "source": [
        "df['Gender'] = pd.get_dummies(df['Gender'], drop_first=True)  # Female=1, Male=0"
      ]
    },
    {
      "cell_type": "code",
      "execution_count": 11,
      "metadata": {
        "colab": {
          "base_uri": "https://localhost:8080/",
          "height": 206
        },
        "id": "nXSuRvdx_oXI",
        "outputId": "603a88f1-fa4a-46c9-97ba-22d86df89f5a"
      },
      "outputs": [
        {
          "data": {
            "text/html": [
              "<div>\n",
              "<style scoped>\n",
              "    .dataframe tbody tr th:only-of-type {\n",
              "        vertical-align: middle;\n",
              "    }\n",
              "\n",
              "    .dataframe tbody tr th {\n",
              "        vertical-align: top;\n",
              "    }\n",
              "\n",
              "    .dataframe thead th {\n",
              "        text-align: right;\n",
              "    }\n",
              "</style>\n",
              "<table border=\"1\" class=\"dataframe\">\n",
              "  <thead>\n",
              "    <tr style=\"text-align: right;\">\n",
              "      <th></th>\n",
              "      <th>Age</th>\n",
              "      <th>Gender</th>\n",
              "      <th>TB</th>\n",
              "      <th>DB</th>\n",
              "      <th>Alkphos</th>\n",
              "      <th>Sgpt</th>\n",
              "      <th>Sgot</th>\n",
              "      <th>TP</th>\n",
              "      <th>ALB</th>\n",
              "      <th>A/G Ratio</th>\n",
              "      <th>Selector</th>\n",
              "    </tr>\n",
              "  </thead>\n",
              "  <tbody>\n",
              "    <tr>\n",
              "      <th>0</th>\n",
              "      <td>65</td>\n",
              "      <td>False</td>\n",
              "      <td>0.7</td>\n",
              "      <td>0.1</td>\n",
              "      <td>187</td>\n",
              "      <td>16</td>\n",
              "      <td>18</td>\n",
              "      <td>6.8</td>\n",
              "      <td>3.3</td>\n",
              "      <td>0.90</td>\n",
              "      <td>1</td>\n",
              "    </tr>\n",
              "    <tr>\n",
              "      <th>1</th>\n",
              "      <td>62</td>\n",
              "      <td>True</td>\n",
              "      <td>10.9</td>\n",
              "      <td>5.5</td>\n",
              "      <td>699</td>\n",
              "      <td>64</td>\n",
              "      <td>100</td>\n",
              "      <td>7.5</td>\n",
              "      <td>3.2</td>\n",
              "      <td>0.74</td>\n",
              "      <td>1</td>\n",
              "    </tr>\n",
              "    <tr>\n",
              "      <th>2</th>\n",
              "      <td>62</td>\n",
              "      <td>True</td>\n",
              "      <td>7.3</td>\n",
              "      <td>4.1</td>\n",
              "      <td>490</td>\n",
              "      <td>60</td>\n",
              "      <td>68</td>\n",
              "      <td>7.0</td>\n",
              "      <td>3.3</td>\n",
              "      <td>0.89</td>\n",
              "      <td>1</td>\n",
              "    </tr>\n",
              "    <tr>\n",
              "      <th>3</th>\n",
              "      <td>58</td>\n",
              "      <td>True</td>\n",
              "      <td>1.0</td>\n",
              "      <td>0.4</td>\n",
              "      <td>182</td>\n",
              "      <td>14</td>\n",
              "      <td>20</td>\n",
              "      <td>6.8</td>\n",
              "      <td>3.4</td>\n",
              "      <td>1.00</td>\n",
              "      <td>1</td>\n",
              "    </tr>\n",
              "    <tr>\n",
              "      <th>4</th>\n",
              "      <td>72</td>\n",
              "      <td>True</td>\n",
              "      <td>3.9</td>\n",
              "      <td>2.0</td>\n",
              "      <td>195</td>\n",
              "      <td>27</td>\n",
              "      <td>59</td>\n",
              "      <td>7.3</td>\n",
              "      <td>2.4</td>\n",
              "      <td>0.40</td>\n",
              "      <td>1</td>\n",
              "    </tr>\n",
              "  </tbody>\n",
              "</table>\n",
              "</div>"
            ],
            "text/plain": [
              "   Age  Gender    TB   DB  Alkphos  Sgpt  Sgot   TP  ALB  A/G Ratio  Selector\n",
              "0   65   False   0.7  0.1      187    16    18  6.8  3.3       0.90         1\n",
              "1   62    True  10.9  5.5      699    64   100  7.5  3.2       0.74         1\n",
              "2   62    True   7.3  4.1      490    60    68  7.0  3.3       0.89         1\n",
              "3   58    True   1.0  0.4      182    14    20  6.8  3.4       1.00         1\n",
              "4   72    True   3.9  2.0      195    27    59  7.3  2.4       0.40         1"
            ]
          },
          "execution_count": 11,
          "metadata": {},
          "output_type": "execute_result"
        }
      ],
      "source": [
        "df.head()"
      ]
    },
    {
      "cell_type": "markdown",
      "metadata": {
        "id": "51P-HNtt93f8"
      },
      "source": [
        "### 1.4 - Exibir as mudanças no DataFrame"
      ]
    },
    {
      "cell_type": "code",
      "execution_count": 12,
      "metadata": {
        "colab": {
          "base_uri": "https://localhost:8080/"
        },
        "id": "fgCow2A093f9",
        "outputId": "f4efbd13-3ad2-446f-903c-7e618d4de314"
      },
      "outputs": [
        {
          "name": "stdout",
          "output_type": "stream",
          "text": [
            "   Age  Gender    TB   DB  Alkphos  Sgpt  Sgot   TP  ALB  A/G Ratio  Selector\n",
            "0   65   False   0.7  0.1      187    16    18  6.8  3.3       0.90         1\n",
            "1   62    True  10.9  5.5      699    64   100  7.5  3.2       0.74         1\n",
            "2   62    True   7.3  4.1      490    60    68  7.0  3.3       0.89         1\n",
            "3   58    True   1.0  0.4      182    14    20  6.8  3.4       1.00         1\n",
            "4   72    True   3.9  2.0      195    27    59  7.3  2.4       0.40         1\n"
          ]
        }
      ],
      "source": [
        "print(df.head())"
      ]
    },
    {
      "cell_type": "markdown",
      "metadata": {
        "id": "Hu7nR2M793f9"
      },
      "source": [
        "### 1.5 - Verificando dados faltantes"
      ]
    },
    {
      "cell_type": "code",
      "execution_count": 13,
      "metadata": {
        "colab": {
          "base_uri": "https://localhost:8080/",
          "height": 429
        },
        "id": "0CVgWD3Q93f9",
        "outputId": "3b8900b9-f75b-45c0-f5a1-f275dc3cd898"
      },
      "outputs": [
        {
          "data": {
            "text/plain": [
              "Age          0\n",
              "Gender       0\n",
              "TB           0\n",
              "DB           0\n",
              "Alkphos      0\n",
              "Sgpt         0\n",
              "Sgot         0\n",
              "TP           0\n",
              "ALB          0\n",
              "A/G Ratio    4\n",
              "Selector     0\n",
              "dtype: int64"
            ]
          },
          "execution_count": 13,
          "metadata": {},
          "output_type": "execute_result"
        }
      ],
      "source": [
        "df.isna().sum()"
      ]
    },
    {
      "cell_type": "markdown",
      "metadata": {
        "id": "-YBY3yB293f9"
      },
      "source": [
        "### 1.6 - Preenchendo os valores faltantes com a média dos valores"
      ]
    },
    {
      "cell_type": "code",
      "execution_count": 14,
      "metadata": {
        "id": "y1ku4J_v93f9"
      },
      "outputs": [],
      "source": [
        "media = df['A/G Ratio'].mean()\n",
        "df['A/G Ratio'] = df['A/G Ratio'].fillna(media)"
      ]
    },
    {
      "cell_type": "markdown",
      "metadata": {
        "id": "W8_uWgM093f9"
      },
      "source": [
        "### 1.7 - Analisando dados"
      ]
    },
    {
      "cell_type": "code",
      "execution_count": 15,
      "metadata": {
        "colab": {
          "base_uri": "https://localhost:8080/",
          "height": 320
        },
        "id": "orYfIQsI93f-",
        "outputId": "22a85955-147f-463e-9ea1-e05094678a9a"
      },
      "outputs": [
        {
          "data": {
            "text/html": [
              "<div>\n",
              "<style scoped>\n",
              "    .dataframe tbody tr th:only-of-type {\n",
              "        vertical-align: middle;\n",
              "    }\n",
              "\n",
              "    .dataframe tbody tr th {\n",
              "        vertical-align: top;\n",
              "    }\n",
              "\n",
              "    .dataframe thead th {\n",
              "        text-align: right;\n",
              "    }\n",
              "</style>\n",
              "<table border=\"1\" class=\"dataframe\">\n",
              "  <thead>\n",
              "    <tr style=\"text-align: right;\">\n",
              "      <th></th>\n",
              "      <th>Age</th>\n",
              "      <th>TB</th>\n",
              "      <th>DB</th>\n",
              "      <th>Alkphos</th>\n",
              "      <th>Sgpt</th>\n",
              "      <th>Sgot</th>\n",
              "      <th>TP</th>\n",
              "      <th>ALB</th>\n",
              "      <th>A/G Ratio</th>\n",
              "    </tr>\n",
              "  </thead>\n",
              "  <tbody>\n",
              "    <tr>\n",
              "      <th>count</th>\n",
              "      <td>583.000000</td>\n",
              "      <td>583.000000</td>\n",
              "      <td>583.000000</td>\n",
              "      <td>583.000000</td>\n",
              "      <td>583.000000</td>\n",
              "      <td>583.000000</td>\n",
              "      <td>583.000000</td>\n",
              "      <td>583.000000</td>\n",
              "      <td>583.000000</td>\n",
              "    </tr>\n",
              "    <tr>\n",
              "      <th>mean</th>\n",
              "      <td>44.746141</td>\n",
              "      <td>3.298799</td>\n",
              "      <td>1.486106</td>\n",
              "      <td>290.576329</td>\n",
              "      <td>80.713551</td>\n",
              "      <td>109.910806</td>\n",
              "      <td>6.483190</td>\n",
              "      <td>3.141852</td>\n",
              "      <td>0.947064</td>\n",
              "    </tr>\n",
              "    <tr>\n",
              "      <th>std</th>\n",
              "      <td>16.189833</td>\n",
              "      <td>6.209522</td>\n",
              "      <td>2.808498</td>\n",
              "      <td>242.937989</td>\n",
              "      <td>182.620356</td>\n",
              "      <td>288.918529</td>\n",
              "      <td>1.085451</td>\n",
              "      <td>0.795519</td>\n",
              "      <td>0.318492</td>\n",
              "    </tr>\n",
              "    <tr>\n",
              "      <th>min</th>\n",
              "      <td>4.000000</td>\n",
              "      <td>0.400000</td>\n",
              "      <td>0.100000</td>\n",
              "      <td>63.000000</td>\n",
              "      <td>10.000000</td>\n",
              "      <td>10.000000</td>\n",
              "      <td>2.700000</td>\n",
              "      <td>0.900000</td>\n",
              "      <td>0.300000</td>\n",
              "    </tr>\n",
              "    <tr>\n",
              "      <th>25%</th>\n",
              "      <td>33.000000</td>\n",
              "      <td>0.800000</td>\n",
              "      <td>0.200000</td>\n",
              "      <td>175.500000</td>\n",
              "      <td>23.000000</td>\n",
              "      <td>25.000000</td>\n",
              "      <td>5.800000</td>\n",
              "      <td>2.600000</td>\n",
              "      <td>0.700000</td>\n",
              "    </tr>\n",
              "    <tr>\n",
              "      <th>50%</th>\n",
              "      <td>45.000000</td>\n",
              "      <td>1.000000</td>\n",
              "      <td>0.300000</td>\n",
              "      <td>208.000000</td>\n",
              "      <td>35.000000</td>\n",
              "      <td>42.000000</td>\n",
              "      <td>6.600000</td>\n",
              "      <td>3.100000</td>\n",
              "      <td>0.947064</td>\n",
              "    </tr>\n",
              "    <tr>\n",
              "      <th>75%</th>\n",
              "      <td>58.000000</td>\n",
              "      <td>2.600000</td>\n",
              "      <td>1.300000</td>\n",
              "      <td>298.000000</td>\n",
              "      <td>60.500000</td>\n",
              "      <td>87.000000</td>\n",
              "      <td>7.200000</td>\n",
              "      <td>3.800000</td>\n",
              "      <td>1.100000</td>\n",
              "    </tr>\n",
              "    <tr>\n",
              "      <th>max</th>\n",
              "      <td>90.000000</td>\n",
              "      <td>75.000000</td>\n",
              "      <td>19.700000</td>\n",
              "      <td>2110.000000</td>\n",
              "      <td>2000.000000</td>\n",
              "      <td>4929.000000</td>\n",
              "      <td>9.600000</td>\n",
              "      <td>5.500000</td>\n",
              "      <td>2.800000</td>\n",
              "    </tr>\n",
              "  </tbody>\n",
              "</table>\n",
              "</div>"
            ],
            "text/plain": [
              "              Age          TB          DB      Alkphos         Sgpt  \\\n",
              "count  583.000000  583.000000  583.000000   583.000000   583.000000   \n",
              "mean    44.746141    3.298799    1.486106   290.576329    80.713551   \n",
              "std     16.189833    6.209522    2.808498   242.937989   182.620356   \n",
              "min      4.000000    0.400000    0.100000    63.000000    10.000000   \n",
              "25%     33.000000    0.800000    0.200000   175.500000    23.000000   \n",
              "50%     45.000000    1.000000    0.300000   208.000000    35.000000   \n",
              "75%     58.000000    2.600000    1.300000   298.000000    60.500000   \n",
              "max     90.000000   75.000000   19.700000  2110.000000  2000.000000   \n",
              "\n",
              "              Sgot          TP         ALB   A/G Ratio  \n",
              "count   583.000000  583.000000  583.000000  583.000000  \n",
              "mean    109.910806    6.483190    3.141852    0.947064  \n",
              "std     288.918529    1.085451    0.795519    0.318492  \n",
              "min      10.000000    2.700000    0.900000    0.300000  \n",
              "25%      25.000000    5.800000    2.600000    0.700000  \n",
              "50%      42.000000    6.600000    3.100000    0.947064  \n",
              "75%      87.000000    7.200000    3.800000    1.100000  \n",
              "max    4929.000000    9.600000    5.500000    2.800000  "
            ]
          },
          "execution_count": 15,
          "metadata": {},
          "output_type": "execute_result"
        }
      ],
      "source": [
        "df[['Age','TB','DB','Alkphos','Sgpt','Sgot','TP','ALB','A/G Ratio']].describe()"
      ]
    },
    {
      "cell_type": "markdown",
      "metadata": {
        "id": "m9iALm4eYchZ"
      },
      "source": [
        "## 2. Quebra do banco\n",
        "--------------------"
      ]
    },
    {
      "cell_type": "markdown",
      "metadata": {},
      "source": [
        "### 2.1 - Separando os dados entre features (X) e target (y)"
      ]
    },
    {
      "cell_type": "code",
      "execution_count": 16,
      "metadata": {
        "id": "w-Sk_EqjYpJL"
      },
      "outputs": [],
      "source": [
        "X = df.drop(columns=['Selector'])\n",
        "y = df['Selector']"
      ]
    },
    {
      "cell_type": "markdown",
      "metadata": {},
      "source": [
        "### 2.2 - Separar o conjunto de dados em treino (80%) e teste (20%)"
      ]
    },
    {
      "cell_type": "code",
      "execution_count": 17,
      "metadata": {},
      "outputs": [],
      "source": [
        "X_train, X_test, y_train, y_test = train_test_split(X, y, test_size=0.2, random_state=42)\n",
        "\n",
        "df['Selector'] = df['Selector'].replace({1: 1, 2: 0})"
      ]
    },
    {
      "cell_type": "markdown",
      "metadata": {
        "id": "uxtfBEUQYpna"
      },
      "source": [
        "## 3. Primeiro modelo\n",
        "--------------------"
      ]
    },
    {
      "cell_type": "code",
      "execution_count": 18,
      "metadata": {
        "colab": {
          "base_uri": "https://localhost:8080/"
        },
        "id": "kvyAvj98Ys1l",
        "outputId": "f1305689-f922-4dde-e11e-76fd5d891fae"
      },
      "outputs": [
        {
          "name": "stdout",
          "output_type": "stream",
          "text": [
            "Coeficientes do modelo de Regressão Logística: [-0.01489148 -0.16864709 -0.01165153 -0.40869514 -0.00139515 -0.00784904\n",
            " -0.00280985 -0.52848682  0.84767443 -0.58622101]\n",
            "              precision    recall  f1-score   support\n",
            "\n",
            "           1       0.78      0.92      0.85        87\n",
            "           2       0.53      0.27      0.36        30\n",
            "\n",
            "    accuracy                           0.75       117\n",
            "   macro avg       0.66      0.59      0.60       117\n",
            "weighted avg       0.72      0.75      0.72       117\n",
            "\n"
          ]
        }
      ],
      "source": [
        "# Treinar o modelo de Regressão Logística\n",
        "log_reg = LogisticRegression(max_iter=1000)\n",
        "log_reg.fit(X_train, y_train)\n",
        "\n",
        "# Coeficientes do modelo\n",
        "coef = log_reg.coef_[0]\n",
        "print(\"Coeficientes do modelo de Regressão Logística:\", coef)\n",
        "\n",
        "# Prever no conjunto de teste\n",
        "y_pred_log = log_reg.predict(X_test)\n",
        "\n",
        "# Avaliação do modelo de Regressão Logística\n",
        "print(classification_report(y_test, y_pred_log))"
      ]
    },
    {
      "cell_type": "markdown",
      "metadata": {
        "id": "MhqIEkqzY94Q"
      },
      "source": [
        "### 3.2 - Interpretação de dois coeficientes"
      ]
    },
    {
      "cell_type": "code",
      "execution_count": 19,
      "metadata": {
        "colab": {
          "base_uri": "https://localhost:8080/"
        },
        "id": "qX28JmTY93f_",
        "outputId": "a819d201-6e6d-4a4b-b2ff-eaa1eacf27da"
      },
      "outputs": [
        {
          "name": "stdout",
          "output_type": "stream",
          "text": [
            "     Feature  Coefficient\n",
            "0        Age    -0.014891\n",
            "1     Gender    -0.168647\n",
            "2         TB    -0.011652\n",
            "3         DB    -0.408695\n",
            "4    Alkphos    -0.001395\n",
            "5       Sgpt    -0.007849\n",
            "6       Sgot    -0.002810\n",
            "7         TP    -0.528487\n",
            "8        ALB     0.847674\n",
            "9  A/G Ratio    -0.586221\n",
            "Coeficiente de TB (Bilirrubina Total): -0.011651528659262412\n",
            "Coeficiente de Age (Idade): -0.014891479368337504\n"
          ]
        }
      ],
      "source": [
        "coef_df = pd.DataFrame({\"Feature\": X.columns, \"Coefficient\": coef})\n",
        "print(coef_df)\n",
        "\n",
        "# Exemplo de interpretação\n",
        "print(f\"Coeficiente de TB (Bilirrubina Total): {coef_df[coef_df['Feature'] == 'TB']['Coefficient'].values[0]}\")\n",
        "print(f\"Coeficiente de Age (Idade): {coef_df[coef_df['Feature'] == 'Age']['Coefficient'].values[0]}\")\n"
      ]
    },
    {
      "cell_type": "code",
      "execution_count": 20,
      "metadata": {
        "colab": {
          "base_uri": "https://localhost:8080/",
          "height": 363
        },
        "id": "w4H-Co_lBJgT",
        "outputId": "06bd4f11-0f15-4cb6-dd5c-874b4ffe4b86"
      },
      "outputs": [
        {
          "data": {
            "text/html": [
              "<div>\n",
              "<style scoped>\n",
              "    .dataframe tbody tr th:only-of-type {\n",
              "        vertical-align: middle;\n",
              "    }\n",
              "\n",
              "    .dataframe tbody tr th {\n",
              "        vertical-align: top;\n",
              "    }\n",
              "\n",
              "    .dataframe thead th {\n",
              "        text-align: right;\n",
              "    }\n",
              "</style>\n",
              "<table border=\"1\" class=\"dataframe\">\n",
              "  <thead>\n",
              "    <tr style=\"text-align: right;\">\n",
              "      <th></th>\n",
              "      <th>0</th>\n",
              "    </tr>\n",
              "  </thead>\n",
              "  <tbody>\n",
              "    <tr>\n",
              "      <th>Age</th>\n",
              "      <td>-0.014891</td>\n",
              "    </tr>\n",
              "    <tr>\n",
              "      <th>Gender</th>\n",
              "      <td>-0.168647</td>\n",
              "    </tr>\n",
              "    <tr>\n",
              "      <th>TB</th>\n",
              "      <td>-0.011652</td>\n",
              "    </tr>\n",
              "    <tr>\n",
              "      <th>DB</th>\n",
              "      <td>-0.408695</td>\n",
              "    </tr>\n",
              "    <tr>\n",
              "      <th>Alkphos</th>\n",
              "      <td>-0.001395</td>\n",
              "    </tr>\n",
              "    <tr>\n",
              "      <th>Sgpt</th>\n",
              "      <td>-0.007849</td>\n",
              "    </tr>\n",
              "    <tr>\n",
              "      <th>Sgot</th>\n",
              "      <td>-0.002810</td>\n",
              "    </tr>\n",
              "    <tr>\n",
              "      <th>TP</th>\n",
              "      <td>-0.528487</td>\n",
              "    </tr>\n",
              "    <tr>\n",
              "      <th>ALB</th>\n",
              "      <td>0.847674</td>\n",
              "    </tr>\n",
              "    <tr>\n",
              "      <th>A/G Ratio</th>\n",
              "      <td>-0.586221</td>\n",
              "    </tr>\n",
              "  </tbody>\n",
              "</table>\n",
              "</div>"
            ],
            "text/plain": [
              "                  0\n",
              "Age       -0.014891\n",
              "Gender    -0.168647\n",
              "TB        -0.011652\n",
              "DB        -0.408695\n",
              "Alkphos   -0.001395\n",
              "Sgpt      -0.007849\n",
              "Sgot      -0.002810\n",
              "TP        -0.528487\n",
              "ALB        0.847674\n",
              "A/G Ratio -0.586221"
            ]
          },
          "execution_count": 20,
          "metadata": {},
          "output_type": "execute_result"
        }
      ],
      "source": [
        "#Criando um df para obtenção do log_reg\n",
        "pd.DataFrame(log_reg.coef_.T, index=X_train.columns)"
      ]
    },
    {
      "cell_type": "code",
      "execution_count": 21,
      "metadata": {
        "colab": {
          "base_uri": "https://localhost:8080/"
        },
        "id": "-L_yTpQHBJI2",
        "outputId": "ca90dae8-3002-4c18-f8c5-036be00ef8ff"
      },
      "outputs": [
        {
          "data": {
            "text/plain": [
              "array([2.43214327])"
            ]
          },
          "execution_count": 21,
          "metadata": {},
          "output_type": "execute_result"
        }
      ],
      "source": [
        "log_reg.coef_\n",
        "log_reg.intercept_"
      ]
    },
    {
      "cell_type": "code",
      "execution_count": 22,
      "metadata": {
        "id": "jQ-53XTUBC7h"
      },
      "outputs": [],
      "source": [
        "pred_class = log_reg.predict(X_test)"
      ]
    },
    {
      "cell_type": "code",
      "execution_count": 23,
      "metadata": {
        "colab": {
          "base_uri": "https://localhost:8080/"
        },
        "id": "0fr2SCW3Aa11",
        "outputId": "88aee96a-0d0c-4ecb-e058-51a9002f0822"
      },
      "outputs": [
        {
          "data": {
            "text/plain": [
              "array([[80,  7],\n",
              "       [22,  8]])"
            ]
          },
          "execution_count": 23,
          "metadata": {},
          "output_type": "execute_result"
        }
      ],
      "source": [
        "confusion_matrix(y_test, pred_class)"
      ]
    },
    {
      "cell_type": "code",
      "execution_count": 24,
      "metadata": {
        "colab": {
          "base_uri": "https://localhost:8080/"
        },
        "id": "FaYXeSWXCC18",
        "outputId": "2d63095d-5363-4c65-fce8-018828282fb2"
      },
      "outputs": [
        {
          "data": {
            "text/plain": [
              "np.float64(0.8195402298850576)"
            ]
          },
          "execution_count": 24,
          "metadata": {},
          "output_type": "execute_result"
        }
      ],
      "source": [
        "# cálculo do probabilidade do predito\n",
        "pred_prob = log_reg.predict_proba(X_test)\n",
        "\n",
        "#Cálculo do AUC\n",
        "\n",
        "roc_auc = roc_auc_score(y_test, pred_prob[:, 1])\n",
        "roc_auc"
      ]
    },
    {
      "cell_type": "code",
      "execution_count": 25,
      "metadata": {
        "colab": {
          "base_uri": "https://localhost:8080/",
          "height": 468
        },
        "id": "B7CK6YJBCRSK",
        "outputId": "a9b105fd-9e30-4be3-b6c8-2807f184bb66"
      },
      "outputs": [
        {
          "data": {
            "text/plain": [
              "<sklearn.metrics._plot.roc_curve.RocCurveDisplay at 0x118627cb0>"
            ]
          },
          "execution_count": 25,
          "metadata": {},
          "output_type": "execute_result"
        },
        {
          "data": {
            "image/png": "[encoded data removed]",
            "text/plain": [
              "<Figure size 640x480 with 1 Axes>"
            ]
          },
          "metadata": {},
          "output_type": "display_data"
        }
      ],
      "source": [
        "fpr, tpr, thresholds = roc_curve(y_test, pred_prob[:, 1], pos_label=1)\n",
        "display = RocCurveDisplay(fpr=fpr, tpr=tpr, roc_auc=roc_auc)\n",
        "display.plot()"
      ]
    },
    {
      "cell_type": "markdown",
      "metadata": {
        "id": "iHa9mKShYsRy"
      },
      "source": [
        "## 4. Segundo modelo\n",
        "--------------------"
      ]
    },
    {
      "cell_type": "code",
      "execution_count": 26,
      "metadata": {
        "colab": {
          "base_uri": "https://localhost:8080/"
        },
        "id": "bR3xFRxAY2hr",
        "outputId": "8b3f28e4-b437-4935-e1d3-6fcc041b8e21"
      },
      "outputs": [
        {
          "name": "stdout",
          "output_type": "stream",
          "text": [
            "              precision    recall  f1-score   support\n",
            "\n",
            "           1       0.82      0.82      0.82        87\n",
            "           2       0.47      0.47      0.47        30\n",
            "\n",
            "    accuracy                           0.73       117\n",
            "   macro avg       0.64      0.64      0.64       117\n",
            "weighted avg       0.73      0.73      0.73       117\n",
            "\n",
            "Duas features mais importantes: [(np.float64(0.4359728847586034), 'DB'), (np.float64(0.2507903351987948), 'Alkphos')]\n"
          ]
        }
      ],
      "source": [
        "# Treinar o modelo de Árvore de Decisão com max_depth=4\n",
        "tree = DecisionTreeClassifier(max_depth=4, random_state=42)\n",
        "tree.fit(X_train, y_train)\n",
        "\n",
        "# Prever no conjunto de teste\n",
        "y_pred_tree = tree.predict(X_test)\n",
        "\n",
        "# Avaliação do modelo de Árvore de Decisão\n",
        "print(classification_report(y_test, y_pred_tree))\n",
        "\n",
        "# Importância das features\n",
        "importances = tree.feature_importances_\n",
        "features_importantes = sorted(zip(importances, X.columns), reverse=True)\n",
        "print(\"Duas features mais importantes:\", features_importantes[:2])\n"
      ]
    },
    {
      "cell_type": "markdown",
      "metadata": {
        "id": "m_mA--yyZDMS"
      },
      "source": [
        "## 4.1 Duas features mais importantes\n",
        "--------------------"
      ]
    },
    {
      "cell_type": "code",
      "execution_count": 27,
      "metadata": {
        "id": "hyUnunkY93f_",
        "outputId": "7c6112be-82c9-41ce-f1b8-5f8927c54853"
      },
      "outputs": [
        {
          "name": "stdout",
          "output_type": "stream",
          "text": [
            "Duas features mais importantes: [(np.float64(0.4359728847586034), 'DB'), (np.float64(0.2507903351987948), 'Alkphos')]\n"
          ]
        }
      ],
      "source": [
        "print(\"Duas features mais importantes:\", features_importantes[:2])\n"
      ]
    },
    {
      "cell_type": "code",
      "execution_count": 28,
      "metadata": {
        "id": "DpHtuvGl93f_",
        "outputId": "27832356-e9f4-4f4f-fdb3-2e6937255205"
      },
      "outputs": [
        {
          "name": "stdout",
          "output_type": "stream",
          "text": [
            "              precision    recall  f1-score   support\n",
            "\n",
            "           1       0.82      0.82      0.82        87\n",
            "           2       0.47      0.47      0.47        30\n",
            "\n",
            "    accuracy                           0.73       117\n",
            "   macro avg       0.64      0.64      0.64       117\n",
            "weighted avg       0.73      0.73      0.73       117\n",
            "\n",
            "Duas features mais importantes: [(np.float64(0.4359728847586034), 'DB'), (np.float64(0.2507903351987948), 'Alkphos')]\n"
          ]
        }
      ],
      "source": [
        "# Treinar o modelo de Árvore de Decisão com max_depth=4\n",
        "tree = DecisionTreeClassifier(max_depth=4, random_state=42)\n",
        "tree.fit(X_train, y_train)\n",
        "\n",
        "# Prever no conjunto de teste\n",
        "y_pred_tree = tree.predict(X_test)\n",
        "\n",
        "# Avaliação do modelo de Árvore de Decisão\n",
        "print(classification_report(y_test, y_pred_tree))\n",
        "\n",
        "# Importância das features\n",
        "importances = tree.feature_importances_\n",
        "features_importantes = sorted(zip(importances, X.columns), reverse=True)\n",
        "print(\"Duas features mais importantes:\", features_importantes[:2])\n"
      ]
    },
    {
      "cell_type": "markdown",
      "metadata": {
        "id": "EGFBuaF_Y4kg"
      },
      "source": [
        "## 5. Avaliação do modelo\n",
        "--------------------"
      ]
    },
    {
      "cell_type": "code",
      "execution_count": 29,
      "metadata": {
        "id": "D5X9-jtJY73h",
        "outputId": "fa2d56f4-9967-44a3-d322-0d0f89c5c2fe"
      },
      "outputs": [
        {
          "name": "stdout",
          "output_type": "stream",
          "text": [
            "Precisão Regressão Logística: 0.5333333333333333\n",
            "Precisão Árvore de Decisão: 0.4666666666666667\n",
            "F1-score Regressão Logística: 0.35555555555555557\n",
            "F1-score Árvore de Decisão: 0.4666666666666667\n"
          ]
        }
      ],
      "source": [
        "from sklearn.metrics import precision_score, f1_score\n",
        "\n",
        "# Precisão da classe de pacientes doentes\n",
        "precision_log = precision_score(y_test, y_pred_log, pos_label=2)\n",
        "precision_tree = precision_score(y_test, y_pred_tree, pos_label=2)\n",
        "\n",
        "# f1-score da classe de pacientes doentes\n",
        "f1_log = f1_score(y_test, y_pred_log, pos_label=2)\n",
        "f1_tree = f1_score(y_test, y_pred_tree, pos_label=2)\n",
        "\n",
        "print(f\"Precisão Regressão Logística: {precision_log}\")\n",
        "print(f\"Precisão Árvore de Decisão: {precision_tree}\")\n",
        "\n",
        "print(f\"F1-score Regressão Logística: {f1_log}\")\n",
        "print(f\"F1-score Árvore de Decisão: {f1_tree}\")\n"
      ]
    },
    {
      "cell_type": "markdown",
      "metadata": {
        "id": "y98QDkPAZGjP"
      },
      "source": [
        "## 5.1 Qual modelo escolhido olhando para a precisão de detecção de doença no fígado?\n",
        "--------------------"
      ]
    },
    {
      "cell_type": "code",
      "execution_count": 30,
      "metadata": {
        "id": "hoq46Wrw93gA",
        "outputId": "91f8ce40-e969-4f8f-94d1-77cef8263a91"
      },
      "outputs": [
        {
          "name": "stdout",
          "output_type": "stream",
          "text": [
            "Precisão Regressão Logística: 0.5333333333333333\n",
            "Precisão Árvore de Decisão: 0.4666666666666667\n",
            "A Regressão Logística tem melhor desempenho na precisão de detecção de doença no fígado.\n"
          ]
        }
      ],
      "source": [
        "print(f\"Precisão Regressão Logística: {precision_log}\")\n",
        "print(f\"Precisão Árvore de Decisão: {precision_tree}\")\n",
        "\n",
        "# Escolha do modelo com base na precisão\n",
        "if precision_log > precision_tree:\n",
        "    print(\"A Regressão Logística tem melhor desempenho na precisão de detecção de doença no fígado.\")\n",
        "else:\n",
        "    print(\"A Árvore de Decisão tem melhor desempenho na precisão de detecção de doença no fígado.\")\n"
      ]
    },
    {
      "cell_type": "markdown",
      "metadata": {
        "id": "val9nAmnZPyB"
      },
      "source": [
        "## 5.2 Qual modelo escolhido olhando para o f1-score do rótulo de doença do fígado?\n",
        "--------------------"
      ]
    },
    {
      "cell_type": "code",
      "execution_count": 31,
      "metadata": {
        "id": "h2ra8tP893gA",
        "outputId": "414ff961-0b4b-4a91-c6d4-5a995751600b"
      },
      "outputs": [
        {
          "name": "stdout",
          "output_type": "stream",
          "text": [
            "F1-score Regressão Logística: 0.35555555555555557\n",
            "F1-score Árvore de Decisão: 0.4666666666666667\n",
            "A Árvore de Decisão tem melhor desempenho no f1-score da detecção de doença no fígado.\n"
          ]
        }
      ],
      "source": [
        "print(f\"F1-score Regressão Logística: {f1_log}\")\n",
        "print(f\"F1-score Árvore de Decisão: {f1_tree}\")\n",
        "\n",
        "# Escolha do modelo com base no f1-score\n",
        "if f1_log > f1_tree:\n",
        "    print(\"A Regressão Logística tem melhor desempenho no f1-score da detecção de doença no fígado.\")\n",
        "else:\n",
        "    print(\"A Árvore de Decisão tem melhor desempenho no f1-score da detecção de doença no fígado.\")\n"
      ]
    }
  ],
  "metadata": {
    "colab": {
      "provenance": []
    },
    "kernelspec": {
      "display_name": "pucminas",
      "language": "python",
      "name": "python3"
    },
    "language_info": {
      "codemirror_mode": {
        "name": "ipython",
        "version": 3
      },
      "file_extension": ".py",
      "mimetype": "text/x-python",
      "name": "python",
      "nbconvert_exporter": "python",
      "pygments_lexer": "ipython3",
      "version": "3.12.2"
    }
  },
  "nbformat": 4,
  "nbformat_minor": 0
}
